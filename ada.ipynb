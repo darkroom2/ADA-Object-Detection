{
 "cells": [
  {
   "cell_type": "code",
   "execution_count": 20,
   "metadata": {
    "pycharm": {
     "name": "#%%\n"
    }
   },
   "outputs": [
    {
     "name": "stdout",
     "output_type": "stream",
     "text": [
      "Requirement already satisfied: torch in /home/darkroom2/.pyenv/versions/3.10.4/envs/yolo/lib/python3.10/site-packages (from -r ./requirements.txt (line 1)) (1.12.1+cpu)\r\n",
      "Requirement already satisfied: torchvision in /home/darkroom2/.pyenv/versions/3.10.4/envs/yolo/lib/python3.10/site-packages (from -r ./requirements.txt (line 2)) (0.13.1+cpu)\r\n",
      "Requirement already satisfied: torchaudio in /home/darkroom2/.pyenv/versions/3.10.4/envs/yolo/lib/python3.10/site-packages (from -r ./requirements.txt (line 3)) (0.12.1+cpu)\r\n",
      "Requirement already satisfied: jupyterlab in /home/darkroom2/.pyenv/versions/3.10.4/envs/yolo/lib/python3.10/site-packages (from -r ./requirements.txt (line 4)) (3.4.5)\r\n",
      "Requirement already satisfied: torch-tb-profiler in /home/darkroom2/.pyenv/versions/3.10.4/envs/yolo/lib/python3.10/site-packages (from -r ./requirements.txt (line 5)) (0.4.0)\r\n",
      "Requirement already satisfied: wandb<=0.12.10 in /home/darkroom2/.pyenv/versions/3.10.4/envs/yolo/lib/python3.10/site-packages (from -r ./requirements.txt (line 6)) (0.12.10)\r\n",
      "Requirement already satisfied: clearml in /home/darkroom2/.pyenv/versions/3.10.4/envs/yolo/lib/python3.10/site-packages (from -r ./requirements.txt (line 7)) (1.6.4)\r\n",
      "Collecting split-folders\r\n",
      "  Downloading split_folders-0.5.1-py3-none-any.whl (8.4 kB)\r\n",
      "Requirement already satisfied: typing-extensions in /home/darkroom2/.pyenv/versions/3.10.4/envs/yolo/lib/python3.10/site-packages (from torch->-r ./requirements.txt (line 1)) (4.3.0)\r\n",
      "Requirement already satisfied: pillow!=8.3.*,>=5.3.0 in /home/darkroom2/.pyenv/versions/3.10.4/envs/yolo/lib/python3.10/site-packages (from torchvision->-r ./requirements.txt (line 2)) (9.2.0)\r\n",
      "Requirement already satisfied: requests in /home/darkroom2/.pyenv/versions/3.10.4/envs/yolo/lib/python3.10/site-packages (from torchvision->-r ./requirements.txt (line 2)) (2.28.1)\r\n",
      "Requirement already satisfied: numpy in /home/darkroom2/.pyenv/versions/3.10.4/envs/yolo/lib/python3.10/site-packages (from torchvision->-r ./requirements.txt (line 2)) (1.23.2)\r\n",
      "Requirement already satisfied: notebook<7 in /home/darkroom2/.pyenv/versions/3.10.4/envs/yolo/lib/python3.10/site-packages (from jupyterlab->-r ./requirements.txt (line 4)) (6.4.12)\r\n",
      "Requirement already satisfied: jupyter-server~=1.16 in /home/darkroom2/.pyenv/versions/3.10.4/envs/yolo/lib/python3.10/site-packages (from jupyterlab->-r ./requirements.txt (line 4)) (1.18.1)\r\n",
      "Requirement already satisfied: jupyter-core in /home/darkroom2/.pyenv/versions/3.10.4/envs/yolo/lib/python3.10/site-packages (from jupyterlab->-r ./requirements.txt (line 4)) (4.11.1)\r\n",
      "Requirement already satisfied: tornado>=6.1.0 in /home/darkroom2/.pyenv/versions/3.10.4/envs/yolo/lib/python3.10/site-packages (from jupyterlab->-r ./requirements.txt (line 4)) (6.2)\r\n",
      "Requirement already satisfied: jinja2>=2.1 in /home/darkroom2/.pyenv/versions/3.10.4/envs/yolo/lib/python3.10/site-packages (from jupyterlab->-r ./requirements.txt (line 4)) (3.1.2)\r\n",
      "Requirement already satisfied: jupyterlab-server~=2.10 in /home/darkroom2/.pyenv/versions/3.10.4/envs/yolo/lib/python3.10/site-packages (from jupyterlab->-r ./requirements.txt (line 4)) (2.15.0)\r\n",
      "Requirement already satisfied: nbclassic in /home/darkroom2/.pyenv/versions/3.10.4/envs/yolo/lib/python3.10/site-packages (from jupyterlab->-r ./requirements.txt (line 4)) (0.4.3)\r\n",
      "Requirement already satisfied: ipython in /home/darkroom2/.pyenv/versions/3.10.4/envs/yolo/lib/python3.10/site-packages (from jupyterlab->-r ./requirements.txt (line 4)) (8.4.0)\r\n",
      "Requirement already satisfied: packaging in /home/darkroom2/.pyenv/versions/3.10.4/envs/yolo/lib/python3.10/site-packages (from jupyterlab->-r ./requirements.txt (line 4)) (21.3)\r\n",
      "Requirement already satisfied: pandas>=1.0.0 in /home/darkroom2/.pyenv/versions/3.10.4/envs/yolo/lib/python3.10/site-packages (from torch-tb-profiler->-r ./requirements.txt (line 5)) (1.4.3)\r\n",
      "Requirement already satisfied: tensorboard!=2.1.0,>=1.15 in /home/darkroom2/.pyenv/versions/3.10.4/envs/yolo/lib/python3.10/site-packages (from torch-tb-profiler->-r ./requirements.txt (line 5)) (2.10.0)\r\n",
      "Requirement already satisfied: PyYAML in /home/darkroom2/.pyenv/versions/3.10.4/envs/yolo/lib/python3.10/site-packages (from wandb<=0.12.10->-r ./requirements.txt (line 6)) (6.0)\r\n",
      "Requirement already satisfied: sentry-sdk>=1.0.0 in /home/darkroom2/.pyenv/versions/3.10.4/envs/yolo/lib/python3.10/site-packages (from wandb<=0.12.10->-r ./requirements.txt (line 6)) (1.9.5)\r\n",
      "Requirement already satisfied: shortuuid>=0.5.0 in /home/darkroom2/.pyenv/versions/3.10.4/envs/yolo/lib/python3.10/site-packages (from wandb<=0.12.10->-r ./requirements.txt (line 6)) (1.0.9)\r\n",
      "Requirement already satisfied: pathtools in /home/darkroom2/.pyenv/versions/3.10.4/envs/yolo/lib/python3.10/site-packages (from wandb<=0.12.10->-r ./requirements.txt (line 6)) (0.1.2)\r\n",
      "Requirement already satisfied: psutil>=5.0.0 in /home/darkroom2/.pyenv/versions/3.10.4/envs/yolo/lib/python3.10/site-packages (from wandb<=0.12.10->-r ./requirements.txt (line 6)) (5.9.1)\r\n",
      "Requirement already satisfied: promise<3,>=2.0 in /home/darkroom2/.pyenv/versions/3.10.4/envs/yolo/lib/python3.10/site-packages (from wandb<=0.12.10->-r ./requirements.txt (line 6)) (2.3)\r\n",
      "Requirement already satisfied: protobuf>=3.12.0 in /home/darkroom2/.pyenv/versions/3.10.4/envs/yolo/lib/python3.10/site-packages (from wandb<=0.12.10->-r ./requirements.txt (line 6)) (3.19.4)\r\n",
      "Requirement already satisfied: yaspin>=1.0.0 in /home/darkroom2/.pyenv/versions/3.10.4/envs/yolo/lib/python3.10/site-packages (from wandb<=0.12.10->-r ./requirements.txt (line 6)) (2.2.0)\r\n",
      "Requirement already satisfied: Click!=8.0.0,>=7.0 in /home/darkroom2/.pyenv/versions/3.10.4/envs/yolo/lib/python3.10/site-packages (from wandb<=0.12.10->-r ./requirements.txt (line 6)) (8.1.3)\r\n",
      "Requirement already satisfied: GitPython>=1.0.0 in /home/darkroom2/.pyenv/versions/3.10.4/envs/yolo/lib/python3.10/site-packages (from wandb<=0.12.10->-r ./requirements.txt (line 6)) (3.1.27)\r\n",
      "Requirement already satisfied: python-dateutil>=2.6.1 in /home/darkroom2/.pyenv/versions/3.10.4/envs/yolo/lib/python3.10/site-packages (from wandb<=0.12.10->-r ./requirements.txt (line 6)) (2.8.2)\r\n",
      "Requirement already satisfied: docker-pycreds>=0.4.0 in /home/darkroom2/.pyenv/versions/3.10.4/envs/yolo/lib/python3.10/site-packages (from wandb<=0.12.10->-r ./requirements.txt (line 6)) (0.4.0)\r\n",
      "Requirement already satisfied: six>=1.13.0 in /home/darkroom2/.pyenv/versions/3.10.4/envs/yolo/lib/python3.10/site-packages (from wandb<=0.12.10->-r ./requirements.txt (line 6)) (1.16.0)\r\n",
      "Requirement already satisfied: urllib3>=1.21.1 in /home/darkroom2/.pyenv/versions/3.10.4/envs/yolo/lib/python3.10/site-packages (from clearml->-r ./requirements.txt (line 7)) (1.26.11)\r\n",
      "Requirement already satisfied: furl>=2.0.0 in /home/darkroom2/.pyenv/versions/3.10.4/envs/yolo/lib/python3.10/site-packages (from clearml->-r ./requirements.txt (line 7)) (2.1.3)\r\n",
      "Requirement already satisfied: pathlib2>=2.3.0 in /home/darkroom2/.pyenv/versions/3.10.4/envs/yolo/lib/python3.10/site-packages (from clearml->-r ./requirements.txt (line 7)) (2.3.7.post1)\r\n",
      "Requirement already satisfied: pyparsing>=2.0.3 in /home/darkroom2/.pyenv/versions/3.10.4/envs/yolo/lib/python3.10/site-packages (from clearml->-r ./requirements.txt (line 7)) (3.0.9)\r\n",
      "Requirement already satisfied: pyjwt<2.5.0,>=2.4.0 in /home/darkroom2/.pyenv/versions/3.10.4/envs/yolo/lib/python3.10/site-packages (from clearml->-r ./requirements.txt (line 7)) (2.4.0)\r\n",
      "Requirement already satisfied: future>=0.16.0 in /home/darkroom2/.pyenv/versions/3.10.4/envs/yolo/lib/python3.10/site-packages (from clearml->-r ./requirements.txt (line 7)) (0.18.2)\r\n",
      "Requirement already satisfied: attrs>=18.0 in /home/darkroom2/.pyenv/versions/3.10.4/envs/yolo/lib/python3.10/site-packages (from clearml->-r ./requirements.txt (line 7)) (22.1.0)\r\n",
      "Requirement already satisfied: jsonschema>=2.6.0 in /home/darkroom2/.pyenv/versions/3.10.4/envs/yolo/lib/python3.10/site-packages (from clearml->-r ./requirements.txt (line 7)) (4.10.2)\r\n",
      "Requirement already satisfied: orderedmultidict>=1.0.1 in /home/darkroom2/.pyenv/versions/3.10.4/envs/yolo/lib/python3.10/site-packages (from furl>=2.0.0->clearml->-r ./requirements.txt (line 7)) (1.0.1)\r\n",
      "Requirement already satisfied: gitdb<5,>=4.0.1 in /home/darkroom2/.pyenv/versions/3.10.4/envs/yolo/lib/python3.10/site-packages (from GitPython>=1.0.0->wandb<=0.12.10->-r ./requirements.txt (line 6)) (4.0.9)\r\n",
      "Requirement already satisfied: MarkupSafe>=2.0 in /home/darkroom2/.pyenv/versions/3.10.4/envs/yolo/lib/python3.10/site-packages (from jinja2>=2.1->jupyterlab->-r ./requirements.txt (line 4)) (2.1.1)\r\n",
      "Requirement already satisfied: pyrsistent!=0.17.0,!=0.17.1,!=0.17.2,>=0.14.0 in /home/darkroom2/.pyenv/versions/3.10.4/envs/yolo/lib/python3.10/site-packages (from jsonschema>=2.6.0->clearml->-r ./requirements.txt (line 7)) (0.18.1)\r\n",
      "Requirement already satisfied: jupyter-client>=6.1.12 in /home/darkroom2/.pyenv/versions/3.10.4/envs/yolo/lib/python3.10/site-packages (from jupyter-server~=1.16->jupyterlab->-r ./requirements.txt (line 4)) (7.3.4)\r\n",
      "Requirement already satisfied: Send2Trash in /home/darkroom2/.pyenv/versions/3.10.4/envs/yolo/lib/python3.10/site-packages (from jupyter-server~=1.16->jupyterlab->-r ./requirements.txt (line 4)) (1.8.0)\r\n",
      "Requirement already satisfied: terminado>=0.8.3 in /home/darkroom2/.pyenv/versions/3.10.4/envs/yolo/lib/python3.10/site-packages (from jupyter-server~=1.16->jupyterlab->-r ./requirements.txt (line 4)) (0.15.0)\r\n",
      "Requirement already satisfied: pyzmq>=17 in /home/darkroom2/.pyenv/versions/3.10.4/envs/yolo/lib/python3.10/site-packages (from jupyter-server~=1.16->jupyterlab->-r ./requirements.txt (line 4)) (23.2.1)\r\n",
      "Requirement already satisfied: websocket-client in /home/darkroom2/.pyenv/versions/3.10.4/envs/yolo/lib/python3.10/site-packages (from jupyter-server~=1.16->jupyterlab->-r ./requirements.txt (line 4)) (1.3.3)\r\n",
      "Requirement already satisfied: argon2-cffi in /home/darkroom2/.pyenv/versions/3.10.4/envs/yolo/lib/python3.10/site-packages (from jupyter-server~=1.16->jupyterlab->-r ./requirements.txt (line 4)) (21.3.0)\r\n",
      "Requirement already satisfied: traitlets>=5.1 in /home/darkroom2/.pyenv/versions/3.10.4/envs/yolo/lib/python3.10/site-packages (from jupyter-server~=1.16->jupyterlab->-r ./requirements.txt (line 4)) (5.3.0)\r\n",
      "Requirement already satisfied: nbformat>=5.2.0 in /home/darkroom2/.pyenv/versions/3.10.4/envs/yolo/lib/python3.10/site-packages (from jupyter-server~=1.16->jupyterlab->-r ./requirements.txt (line 4)) (5.4.0)\r\n",
      "Requirement already satisfied: anyio<4,>=3.1.0 in /home/darkroom2/.pyenv/versions/3.10.4/envs/yolo/lib/python3.10/site-packages (from jupyter-server~=1.16->jupyterlab->-r ./requirements.txt (line 4)) (3.6.1)\r\n",
      "Requirement already satisfied: prometheus-client in /home/darkroom2/.pyenv/versions/3.10.4/envs/yolo/lib/python3.10/site-packages (from jupyter-server~=1.16->jupyterlab->-r ./requirements.txt (line 4)) (0.14.1)\r\n",
      "Requirement already satisfied: nbconvert>=6.4.4 in /home/darkroom2/.pyenv/versions/3.10.4/envs/yolo/lib/python3.10/site-packages (from jupyter-server~=1.16->jupyterlab->-r ./requirements.txt (line 4)) (6.5.3)\r\n",
      "Requirement already satisfied: json5 in /home/darkroom2/.pyenv/versions/3.10.4/envs/yolo/lib/python3.10/site-packages (from jupyterlab-server~=2.10->jupyterlab->-r ./requirements.txt (line 4)) (0.9.9)\r\n",
      "Requirement already satisfied: babel in /home/darkroom2/.pyenv/versions/3.10.4/envs/yolo/lib/python3.10/site-packages (from jupyterlab-server~=2.10->jupyterlab->-r ./requirements.txt (line 4)) (2.10.3)\r\n",
      "Requirement already satisfied: nest-asyncio>=1.5 in /home/darkroom2/.pyenv/versions/3.10.4/envs/yolo/lib/python3.10/site-packages (from notebook<7->jupyterlab->-r ./requirements.txt (line 4)) (1.5.5)\r\n",
      "Requirement already satisfied: ipython-genutils in /home/darkroom2/.pyenv/versions/3.10.4/envs/yolo/lib/python3.10/site-packages (from notebook<7->jupyterlab->-r ./requirements.txt (line 4)) (0.2.0)\r\n",
      "Requirement already satisfied: ipykernel in /home/darkroom2/.pyenv/versions/3.10.4/envs/yolo/lib/python3.10/site-packages (from notebook<7->jupyterlab->-r ./requirements.txt (line 4)) (6.15.1)\r\n",
      "Requirement already satisfied: pytz>=2020.1 in /home/darkroom2/.pyenv/versions/3.10.4/envs/yolo/lib/python3.10/site-packages (from pandas>=1.0.0->torch-tb-profiler->-r ./requirements.txt (line 5)) (2022.2.1)\r\n",
      "Requirement already satisfied: certifi>=2017.4.17 in /home/darkroom2/.pyenv/versions/3.10.4/envs/yolo/lib/python3.10/site-packages (from requests->torchvision->-r ./requirements.txt (line 2)) (2022.6.15)\r\n",
      "Requirement already satisfied: idna<4,>=2.5 in /home/darkroom2/.pyenv/versions/3.10.4/envs/yolo/lib/python3.10/site-packages (from requests->torchvision->-r ./requirements.txt (line 2)) (3.3)\r\n",
      "Requirement already satisfied: charset-normalizer<3,>=2 in /home/darkroom2/.pyenv/versions/3.10.4/envs/yolo/lib/python3.10/site-packages (from requests->torchvision->-r ./requirements.txt (line 2)) (2.1.0)\r\n",
      "Requirement already satisfied: google-auth<3,>=1.6.3 in /home/darkroom2/.pyenv/versions/3.10.4/envs/yolo/lib/python3.10/site-packages (from tensorboard!=2.1.0,>=1.15->torch-tb-profiler->-r ./requirements.txt (line 5)) (2.10.0)\r\n",
      "Requirement already satisfied: setuptools>=41.0.0 in /home/darkroom2/.pyenv/versions/3.10.4/envs/yolo/lib/python3.10/site-packages (from tensorboard!=2.1.0,>=1.15->torch-tb-profiler->-r ./requirements.txt (line 5)) (58.1.0)\r\n",
      "Requirement already satisfied: grpcio>=1.24.3 in /home/darkroom2/.pyenv/versions/3.10.4/envs/yolo/lib/python3.10/site-packages (from tensorboard!=2.1.0,>=1.15->torch-tb-profiler->-r ./requirements.txt (line 5)) (1.47.0)\r\n",
      "Requirement already satisfied: absl-py>=0.4 in /home/darkroom2/.pyenv/versions/3.10.4/envs/yolo/lib/python3.10/site-packages (from tensorboard!=2.1.0,>=1.15->torch-tb-profiler->-r ./requirements.txt (line 5)) (1.2.0)\r\n",
      "Requirement already satisfied: markdown>=2.6.8 in /home/darkroom2/.pyenv/versions/3.10.4/envs/yolo/lib/python3.10/site-packages (from tensorboard!=2.1.0,>=1.15->torch-tb-profiler->-r ./requirements.txt (line 5)) (3.4.1)\r\n",
      "Requirement already satisfied: tensorboard-plugin-wit>=1.6.0 in /home/darkroom2/.pyenv/versions/3.10.4/envs/yolo/lib/python3.10/site-packages (from tensorboard!=2.1.0,>=1.15->torch-tb-profiler->-r ./requirements.txt (line 5)) (1.8.1)\r\n",
      "Requirement already satisfied: google-auth-oauthlib<0.5,>=0.4.1 in /home/darkroom2/.pyenv/versions/3.10.4/envs/yolo/lib/python3.10/site-packages (from tensorboard!=2.1.0,>=1.15->torch-tb-profiler->-r ./requirements.txt (line 5)) (0.4.6)\r\n",
      "Requirement already satisfied: tensorboard-data-server<0.7.0,>=0.6.0 in /home/darkroom2/.pyenv/versions/3.10.4/envs/yolo/lib/python3.10/site-packages (from tensorboard!=2.1.0,>=1.15->torch-tb-profiler->-r ./requirements.txt (line 5)) (0.6.1)\r\n",
      "Requirement already satisfied: werkzeug>=1.0.1 in /home/darkroom2/.pyenv/versions/3.10.4/envs/yolo/lib/python3.10/site-packages (from tensorboard!=2.1.0,>=1.15->torch-tb-profiler->-r ./requirements.txt (line 5)) (2.2.2)\r\n",
      "Requirement already satisfied: wheel>=0.26 in /home/darkroom2/.pyenv/versions/3.10.4/envs/yolo/lib/python3.10/site-packages (from tensorboard!=2.1.0,>=1.15->torch-tb-profiler->-r ./requirements.txt (line 5)) (0.37.1)\r\n",
      "Requirement already satisfied: termcolor-whl==1.1.2 in /home/darkroom2/.pyenv/versions/3.10.4/envs/yolo/lib/python3.10/site-packages (from yaspin>=1.0.0->wandb<=0.12.10->-r ./requirements.txt (line 6)) (1.1.2)\r\n",
      "Requirement already satisfied: prompt-toolkit!=3.0.0,!=3.0.1,<3.1.0,>=2.0.0 in /home/darkroom2/.pyenv/versions/3.10.4/envs/yolo/lib/python3.10/site-packages (from ipython->jupyterlab->-r ./requirements.txt (line 4)) (3.0.30)\r\n",
      "Requirement already satisfied: jedi>=0.16 in /home/darkroom2/.pyenv/versions/3.10.4/envs/yolo/lib/python3.10/site-packages (from ipython->jupyterlab->-r ./requirements.txt (line 4)) (0.18.1)\r\n",
      "Requirement already satisfied: stack-data in /home/darkroom2/.pyenv/versions/3.10.4/envs/yolo/lib/python3.10/site-packages (from ipython->jupyterlab->-r ./requirements.txt (line 4)) (0.4.0)\r\n",
      "Requirement already satisfied: pickleshare in /home/darkroom2/.pyenv/versions/3.10.4/envs/yolo/lib/python3.10/site-packages (from ipython->jupyterlab->-r ./requirements.txt (line 4)) (0.7.5)\r\n",
      "Requirement already satisfied: matplotlib-inline in /home/darkroom2/.pyenv/versions/3.10.4/envs/yolo/lib/python3.10/site-packages (from ipython->jupyterlab->-r ./requirements.txt (line 4)) (0.1.5)\r\n",
      "Requirement already satisfied: backcall in /home/darkroom2/.pyenv/versions/3.10.4/envs/yolo/lib/python3.10/site-packages (from ipython->jupyterlab->-r ./requirements.txt (line 4)) (0.2.0)\r\n",
      "Requirement already satisfied: pygments>=2.4.0 in /home/darkroom2/.pyenv/versions/3.10.4/envs/yolo/lib/python3.10/site-packages (from ipython->jupyterlab->-r ./requirements.txt (line 4)) (2.13.0)\r\n",
      "Requirement already satisfied: decorator in /home/darkroom2/.pyenv/versions/3.10.4/envs/yolo/lib/python3.10/site-packages (from ipython->jupyterlab->-r ./requirements.txt (line 4)) (5.1.1)\r\n",
      "Requirement already satisfied: pexpect>4.3 in /home/darkroom2/.pyenv/versions/3.10.4/envs/yolo/lib/python3.10/site-packages (from ipython->jupyterlab->-r ./requirements.txt (line 4)) (4.8.0)\r\n",
      "Requirement already satisfied: notebook-shim>=0.1.0 in /home/darkroom2/.pyenv/versions/3.10.4/envs/yolo/lib/python3.10/site-packages (from nbclassic->jupyterlab->-r ./requirements.txt (line 4)) (0.1.0)\r\n",
      "Requirement already satisfied: sniffio>=1.1 in /home/darkroom2/.pyenv/versions/3.10.4/envs/yolo/lib/python3.10/site-packages (from anyio<4,>=3.1.0->jupyter-server~=1.16->jupyterlab->-r ./requirements.txt (line 4)) (1.2.0)\r\n",
      "Requirement already satisfied: smmap<6,>=3.0.1 in /home/darkroom2/.pyenv/versions/3.10.4/envs/yolo/lib/python3.10/site-packages (from gitdb<5,>=4.0.1->GitPython>=1.0.0->wandb<=0.12.10->-r ./requirements.txt (line 6)) (5.0.0)\r\n",
      "Requirement already satisfied: pyasn1-modules>=0.2.1 in /home/darkroom2/.pyenv/versions/3.10.4/envs/yolo/lib/python3.10/site-packages (from google-auth<3,>=1.6.3->tensorboard!=2.1.0,>=1.15->torch-tb-profiler->-r ./requirements.txt (line 5)) (0.2.8)\r\n",
      "Requirement already satisfied: cachetools<6.0,>=2.0.0 in /home/darkroom2/.pyenv/versions/3.10.4/envs/yolo/lib/python3.10/site-packages (from google-auth<3,>=1.6.3->tensorboard!=2.1.0,>=1.15->torch-tb-profiler->-r ./requirements.txt (line 5)) (5.2.0)\r\n",
      "Requirement already satisfied: rsa<5,>=3.1.4 in /home/darkroom2/.pyenv/versions/3.10.4/envs/yolo/lib/python3.10/site-packages (from google-auth<3,>=1.6.3->tensorboard!=2.1.0,>=1.15->torch-tb-profiler->-r ./requirements.txt (line 5)) (4.9)\r\n",
      "Requirement already satisfied: requests-oauthlib>=0.7.0 in /home/darkroom2/.pyenv/versions/3.10.4/envs/yolo/lib/python3.10/site-packages (from google-auth-oauthlib<0.5,>=0.4.1->tensorboard!=2.1.0,>=1.15->torch-tb-profiler->-r ./requirements.txt (line 5)) (1.3.1)\r\n",
      "Requirement already satisfied: parso<0.9.0,>=0.8.0 in /home/darkroom2/.pyenv/versions/3.10.4/envs/yolo/lib/python3.10/site-packages (from jedi>=0.16->ipython->jupyterlab->-r ./requirements.txt (line 4)) (0.8.3)\r\n",
      "Requirement already satisfied: entrypoints in /home/darkroom2/.pyenv/versions/3.10.4/envs/yolo/lib/python3.10/site-packages (from jupyter-client>=6.1.12->jupyter-server~=1.16->jupyterlab->-r ./requirements.txt (line 4)) (0.4)\r\n",
      "Requirement already satisfied: jupyterlab-pygments in /home/darkroom2/.pyenv/versions/3.10.4/envs/yolo/lib/python3.10/site-packages (from nbconvert>=6.4.4->jupyter-server~=1.16->jupyterlab->-r ./requirements.txt (line 4)) (0.2.2)\r\n",
      "Requirement already satisfied: mistune<2,>=0.8.1 in /home/darkroom2/.pyenv/versions/3.10.4/envs/yolo/lib/python3.10/site-packages (from nbconvert>=6.4.4->jupyter-server~=1.16->jupyterlab->-r ./requirements.txt (line 4)) (0.8.4)\r\n",
      "Requirement already satisfied: tinycss2 in /home/darkroom2/.pyenv/versions/3.10.4/envs/yolo/lib/python3.10/site-packages (from nbconvert>=6.4.4->jupyter-server~=1.16->jupyterlab->-r ./requirements.txt (line 4)) (1.1.1)\r\n",
      "Requirement already satisfied: lxml in /home/darkroom2/.pyenv/versions/3.10.4/envs/yolo/lib/python3.10/site-packages (from nbconvert>=6.4.4->jupyter-server~=1.16->jupyterlab->-r ./requirements.txt (line 4)) (4.9.1)\r\n",
      "Requirement already satisfied: defusedxml in /home/darkroom2/.pyenv/versions/3.10.4/envs/yolo/lib/python3.10/site-packages (from nbconvert>=6.4.4->jupyter-server~=1.16->jupyterlab->-r ./requirements.txt (line 4)) (0.7.1)\r\n",
      "Requirement already satisfied: nbclient>=0.5.0 in /home/darkroom2/.pyenv/versions/3.10.4/envs/yolo/lib/python3.10/site-packages (from nbconvert>=6.4.4->jupyter-server~=1.16->jupyterlab->-r ./requirements.txt (line 4)) (0.6.6)\r\n",
      "Requirement already satisfied: bleach in /home/darkroom2/.pyenv/versions/3.10.4/envs/yolo/lib/python3.10/site-packages (from nbconvert>=6.4.4->jupyter-server~=1.16->jupyterlab->-r ./requirements.txt (line 4)) (5.0.1)\r\n",
      "Requirement already satisfied: beautifulsoup4 in /home/darkroom2/.pyenv/versions/3.10.4/envs/yolo/lib/python3.10/site-packages (from nbconvert>=6.4.4->jupyter-server~=1.16->jupyterlab->-r ./requirements.txt (line 4)) (4.11.1)\r\n",
      "Requirement already satisfied: pandocfilters>=1.4.1 in /home/darkroom2/.pyenv/versions/3.10.4/envs/yolo/lib/python3.10/site-packages (from nbconvert>=6.4.4->jupyter-server~=1.16->jupyterlab->-r ./requirements.txt (line 4)) (1.5.0)\r\n",
      "Requirement already satisfied: fastjsonschema in /home/darkroom2/.pyenv/versions/3.10.4/envs/yolo/lib/python3.10/site-packages (from nbformat>=5.2.0->jupyter-server~=1.16->jupyterlab->-r ./requirements.txt (line 4)) (2.16.1)\r\n",
      "Requirement already satisfied: ptyprocess>=0.5 in /home/darkroom2/.pyenv/versions/3.10.4/envs/yolo/lib/python3.10/site-packages (from pexpect>4.3->ipython->jupyterlab->-r ./requirements.txt (line 4)) (0.7.0)\r\n",
      "Requirement already satisfied: wcwidth in /home/darkroom2/.pyenv/versions/3.10.4/envs/yolo/lib/python3.10/site-packages (from prompt-toolkit!=3.0.0,!=3.0.1,<3.1.0,>=2.0.0->ipython->jupyterlab->-r ./requirements.txt (line 4)) (0.2.5)\r\n",
      "Requirement already satisfied: argon2-cffi-bindings in /home/darkroom2/.pyenv/versions/3.10.4/envs/yolo/lib/python3.10/site-packages (from argon2-cffi->jupyter-server~=1.16->jupyterlab->-r ./requirements.txt (line 4)) (21.2.0)\r\n",
      "Requirement already satisfied: debugpy>=1.0 in /home/darkroom2/.pyenv/versions/3.10.4/envs/yolo/lib/python3.10/site-packages (from ipykernel->notebook<7->jupyterlab->-r ./requirements.txt (line 4)) (1.6.3)\r\n",
      "Requirement already satisfied: executing in /home/darkroom2/.pyenv/versions/3.10.4/envs/yolo/lib/python3.10/site-packages (from stack-data->ipython->jupyterlab->-r ./requirements.txt (line 4)) (0.10.0)\r\n",
      "Requirement already satisfied: asttokens in /home/darkroom2/.pyenv/versions/3.10.4/envs/yolo/lib/python3.10/site-packages (from stack-data->ipython->jupyterlab->-r ./requirements.txt (line 4)) (2.0.8)\r\n",
      "Requirement already satisfied: pure-eval in /home/darkroom2/.pyenv/versions/3.10.4/envs/yolo/lib/python3.10/site-packages (from stack-data->ipython->jupyterlab->-r ./requirements.txt (line 4)) (0.2.2)\r\n",
      "Requirement already satisfied: pyasn1<0.5.0,>=0.4.6 in /home/darkroom2/.pyenv/versions/3.10.4/envs/yolo/lib/python3.10/site-packages (from pyasn1-modules>=0.2.1->google-auth<3,>=1.6.3->tensorboard!=2.1.0,>=1.15->torch-tb-profiler->-r ./requirements.txt (line 5)) (0.4.8)\r\n",
      "Requirement already satisfied: oauthlib>=3.0.0 in /home/darkroom2/.pyenv/versions/3.10.4/envs/yolo/lib/python3.10/site-packages (from requests-oauthlib>=0.7.0->google-auth-oauthlib<0.5,>=0.4.1->tensorboard!=2.1.0,>=1.15->torch-tb-profiler->-r ./requirements.txt (line 5)) (3.2.0)\r\n",
      "Requirement already satisfied: cffi>=1.0.1 in /home/darkroom2/.pyenv/versions/3.10.4/envs/yolo/lib/python3.10/site-packages (from argon2-cffi-bindings->argon2-cffi->jupyter-server~=1.16->jupyterlab->-r ./requirements.txt (line 4)) (1.15.1)\r\n",
      "Requirement already satisfied: soupsieve>1.2 in /home/darkroom2/.pyenv/versions/3.10.4/envs/yolo/lib/python3.10/site-packages (from beautifulsoup4->nbconvert>=6.4.4->jupyter-server~=1.16->jupyterlab->-r ./requirements.txt (line 4)) (2.3.2.post1)\r\n",
      "Requirement already satisfied: webencodings in /home/darkroom2/.pyenv/versions/3.10.4/envs/yolo/lib/python3.10/site-packages (from bleach->nbconvert>=6.4.4->jupyter-server~=1.16->jupyterlab->-r ./requirements.txt (line 4)) (0.5.1)\r\n",
      "Requirement already satisfied: pycparser in /home/darkroom2/.pyenv/versions/3.10.4/envs/yolo/lib/python3.10/site-packages (from cffi>=1.0.1->argon2-cffi-bindings->argon2-cffi->jupyter-server~=1.16->jupyterlab->-r ./requirements.txt (line 4)) (2.21)\r\n",
      "Installing collected packages: split-folders\r\n",
      "Successfully installed split-folders-0.5.1\r\n",
      "Note: you may need to restart the kernel to use updated packages.\n"
     ]
    }
   ],
   "source": [
    "% pip install -r./ requirements.txt"
   ]
  },
  {
   "cell_type": "code",
   "execution_count": 21,
   "metadata": {
    "pycharm": {
     "name": "#%%\n"
    }
   },
   "outputs": [
    {
     "name": "stdout",
     "output_type": "stream",
     "text": [
      "Requirement already satisfied: matplotlib>=3.2.2 in /home/darkroom2/.pyenv/versions/3.10.4/envs/yolo/lib/python3.10/site-packages (from -r ./yolov5/requirements.txt (line 5)) (3.5.3)\r\n",
      "Requirement already satisfied: numpy>=1.18.5 in /home/darkroom2/.pyenv/versions/3.10.4/envs/yolo/lib/python3.10/site-packages (from -r ./yolov5/requirements.txt (line 6)) (1.23.2)\r\n",
      "Requirement already satisfied: opencv-python>=4.1.1 in /home/darkroom2/.pyenv/versions/3.10.4/envs/yolo/lib/python3.10/site-packages (from -r ./yolov5/requirements.txt (line 7)) (4.6.0.66)\r\n",
      "Requirement already satisfied: Pillow>=7.1.2 in /home/darkroom2/.pyenv/versions/3.10.4/envs/yolo/lib/python3.10/site-packages (from -r ./yolov5/requirements.txt (line 8)) (9.2.0)\r\n",
      "Requirement already satisfied: PyYAML>=5.3.1 in /home/darkroom2/.pyenv/versions/3.10.4/envs/yolo/lib/python3.10/site-packages (from -r ./yolov5/requirements.txt (line 9)) (6.0)\r\n",
      "Requirement already satisfied: requests>=2.23.0 in /home/darkroom2/.pyenv/versions/3.10.4/envs/yolo/lib/python3.10/site-packages (from -r ./yolov5/requirements.txt (line 10)) (2.28.1)\r\n",
      "Requirement already satisfied: scipy>=1.4.1 in /home/darkroom2/.pyenv/versions/3.10.4/envs/yolo/lib/python3.10/site-packages (from -r ./yolov5/requirements.txt (line 11)) (1.9.0)\r\n",
      "Requirement already satisfied: torch>=1.7.0 in /home/darkroom2/.pyenv/versions/3.10.4/envs/yolo/lib/python3.10/site-packages (from -r ./yolov5/requirements.txt (line 12)) (1.12.1+cpu)\r\n",
      "Requirement already satisfied: torchvision>=0.8.1 in /home/darkroom2/.pyenv/versions/3.10.4/envs/yolo/lib/python3.10/site-packages (from -r ./yolov5/requirements.txt (line 13)) (0.13.1+cpu)\r\n",
      "Requirement already satisfied: tqdm>=4.64.0 in /home/darkroom2/.pyenv/versions/3.10.4/envs/yolo/lib/python3.10/site-packages (from -r ./yolov5/requirements.txt (line 14)) (4.64.0)\r\n",
      "Requirement already satisfied: protobuf<=3.20.1 in /home/darkroom2/.pyenv/versions/3.10.4/envs/yolo/lib/python3.10/site-packages (from -r ./yolov5/requirements.txt (line 15)) (3.19.4)\r\n",
      "Requirement already satisfied: tensorboard>=2.4.1 in /home/darkroom2/.pyenv/versions/3.10.4/envs/yolo/lib/python3.10/site-packages (from -r ./yolov5/requirements.txt (line 18)) (2.10.0)\r\n",
      "Requirement already satisfied: pandas>=1.1.4 in /home/darkroom2/.pyenv/versions/3.10.4/envs/yolo/lib/python3.10/site-packages (from -r ./yolov5/requirements.txt (line 23)) (1.4.3)\r\n",
      "Requirement already satisfied: seaborn>=0.11.0 in /home/darkroom2/.pyenv/versions/3.10.4/envs/yolo/lib/python3.10/site-packages (from -r ./yolov5/requirements.txt (line 24)) (0.11.2)\r\n",
      "Requirement already satisfied: ipython in /home/darkroom2/.pyenv/versions/3.10.4/envs/yolo/lib/python3.10/site-packages (from -r ./yolov5/requirements.txt (line 38)) (8.4.0)\r\n",
      "Requirement already satisfied: psutil in /home/darkroom2/.pyenv/versions/3.10.4/envs/yolo/lib/python3.10/site-packages (from -r ./yolov5/requirements.txt (line 39)) (5.9.1)\r\n",
      "Requirement already satisfied: thop>=0.1.1 in /home/darkroom2/.pyenv/versions/3.10.4/envs/yolo/lib/python3.10/site-packages (from -r ./yolov5/requirements.txt (line 40)) (0.1.1.post2207130030)\r\n",
      "Requirement already satisfied: cycler>=0.10 in /home/darkroom2/.pyenv/versions/3.10.4/envs/yolo/lib/python3.10/site-packages (from matplotlib>=3.2.2->-r ./yolov5/requirements.txt (line 5)) (0.11.0)\r\n",
      "Requirement already satisfied: pyparsing>=2.2.1 in /home/darkroom2/.pyenv/versions/3.10.4/envs/yolo/lib/python3.10/site-packages (from matplotlib>=3.2.2->-r ./yolov5/requirements.txt (line 5)) (3.0.9)\r\n",
      "Requirement already satisfied: python-dateutil>=2.7 in /home/darkroom2/.pyenv/versions/3.10.4/envs/yolo/lib/python3.10/site-packages (from matplotlib>=3.2.2->-r ./yolov5/requirements.txt (line 5)) (2.8.2)\r\n",
      "Requirement already satisfied: kiwisolver>=1.0.1 in /home/darkroom2/.pyenv/versions/3.10.4/envs/yolo/lib/python3.10/site-packages (from matplotlib>=3.2.2->-r ./yolov5/requirements.txt (line 5)) (1.4.4)\r\n",
      "Requirement already satisfied: packaging>=20.0 in /home/darkroom2/.pyenv/versions/3.10.4/envs/yolo/lib/python3.10/site-packages (from matplotlib>=3.2.2->-r ./yolov5/requirements.txt (line 5)) (21.3)\r\n",
      "Requirement already satisfied: fonttools>=4.22.0 in /home/darkroom2/.pyenv/versions/3.10.4/envs/yolo/lib/python3.10/site-packages (from matplotlib>=3.2.2->-r ./yolov5/requirements.txt (line 5)) (4.36.0)\r\n",
      "Requirement already satisfied: urllib3<1.27,>=1.21.1 in /home/darkroom2/.pyenv/versions/3.10.4/envs/yolo/lib/python3.10/site-packages (from requests>=2.23.0->-r ./yolov5/requirements.txt (line 10)) (1.26.11)\r\n",
      "Requirement already satisfied: certifi>=2017.4.17 in /home/darkroom2/.pyenv/versions/3.10.4/envs/yolo/lib/python3.10/site-packages (from requests>=2.23.0->-r ./yolov5/requirements.txt (line 10)) (2022.6.15)\r\n",
      "Requirement already satisfied: charset-normalizer<3,>=2 in /home/darkroom2/.pyenv/versions/3.10.4/envs/yolo/lib/python3.10/site-packages (from requests>=2.23.0->-r ./yolov5/requirements.txt (line 10)) (2.1.0)\r\n",
      "Requirement already satisfied: idna<4,>=2.5 in /home/darkroom2/.pyenv/versions/3.10.4/envs/yolo/lib/python3.10/site-packages (from requests>=2.23.0->-r ./yolov5/requirements.txt (line 10)) (3.3)\r\n",
      "Requirement already satisfied: typing-extensions in /home/darkroom2/.pyenv/versions/3.10.4/envs/yolo/lib/python3.10/site-packages (from torch>=1.7.0->-r ./yolov5/requirements.txt (line 12)) (4.3.0)\r\n",
      "Requirement already satisfied: google-auth<3,>=1.6.3 in /home/darkroom2/.pyenv/versions/3.10.4/envs/yolo/lib/python3.10/site-packages (from tensorboard>=2.4.1->-r ./yolov5/requirements.txt (line 18)) (2.10.0)\r\n",
      "Requirement already satisfied: werkzeug>=1.0.1 in /home/darkroom2/.pyenv/versions/3.10.4/envs/yolo/lib/python3.10/site-packages (from tensorboard>=2.4.1->-r ./yolov5/requirements.txt (line 18)) (2.2.2)\r\n",
      "Requirement already satisfied: markdown>=2.6.8 in /home/darkroom2/.pyenv/versions/3.10.4/envs/yolo/lib/python3.10/site-packages (from tensorboard>=2.4.1->-r ./yolov5/requirements.txt (line 18)) (3.4.1)\r\n",
      "Requirement already satisfied: grpcio>=1.24.3 in /home/darkroom2/.pyenv/versions/3.10.4/envs/yolo/lib/python3.10/site-packages (from tensorboard>=2.4.1->-r ./yolov5/requirements.txt (line 18)) (1.47.0)\r\n",
      "Requirement already satisfied: tensorboard-plugin-wit>=1.6.0 in /home/darkroom2/.pyenv/versions/3.10.4/envs/yolo/lib/python3.10/site-packages (from tensorboard>=2.4.1->-r ./yolov5/requirements.txt (line 18)) (1.8.1)\r\n",
      "Requirement already satisfied: absl-py>=0.4 in /home/darkroom2/.pyenv/versions/3.10.4/envs/yolo/lib/python3.10/site-packages (from tensorboard>=2.4.1->-r ./yolov5/requirements.txt (line 18)) (1.2.0)\r\n",
      "Requirement already satisfied: setuptools>=41.0.0 in /home/darkroom2/.pyenv/versions/3.10.4/envs/yolo/lib/python3.10/site-packages (from tensorboard>=2.4.1->-r ./yolov5/requirements.txt (line 18)) (58.1.0)\r\n",
      "Requirement already satisfied: wheel>=0.26 in /home/darkroom2/.pyenv/versions/3.10.4/envs/yolo/lib/python3.10/site-packages (from tensorboard>=2.4.1->-r ./yolov5/requirements.txt (line 18)) (0.37.1)\r\n",
      "Requirement already satisfied: tensorboard-data-server<0.7.0,>=0.6.0 in /home/darkroom2/.pyenv/versions/3.10.4/envs/yolo/lib/python3.10/site-packages (from tensorboard>=2.4.1->-r ./yolov5/requirements.txt (line 18)) (0.6.1)\r\n",
      "Requirement already satisfied: google-auth-oauthlib<0.5,>=0.4.1 in /home/darkroom2/.pyenv/versions/3.10.4/envs/yolo/lib/python3.10/site-packages (from tensorboard>=2.4.1->-r ./yolov5/requirements.txt (line 18)) (0.4.6)\r\n",
      "Requirement already satisfied: pytz>=2020.1 in /home/darkroom2/.pyenv/versions/3.10.4/envs/yolo/lib/python3.10/site-packages (from pandas>=1.1.4->-r ./yolov5/requirements.txt (line 23)) (2022.2.1)\r\n",
      "Requirement already satisfied: stack-data in /home/darkroom2/.pyenv/versions/3.10.4/envs/yolo/lib/python3.10/site-packages (from ipython->-r ./yolov5/requirements.txt (line 38)) (0.4.0)\r\n",
      "Requirement already satisfied: jedi>=0.16 in /home/darkroom2/.pyenv/versions/3.10.4/envs/yolo/lib/python3.10/site-packages (from ipython->-r ./yolov5/requirements.txt (line 38)) (0.18.1)\r\n",
      "Requirement already satisfied: prompt-toolkit!=3.0.0,!=3.0.1,<3.1.0,>=2.0.0 in /home/darkroom2/.pyenv/versions/3.10.4/envs/yolo/lib/python3.10/site-packages (from ipython->-r ./yolov5/requirements.txt (line 38)) (3.0.30)\r\n",
      "Requirement already satisfied: pexpect>4.3 in /home/darkroom2/.pyenv/versions/3.10.4/envs/yolo/lib/python3.10/site-packages (from ipython->-r ./yolov5/requirements.txt (line 38)) (4.8.0)\r\n",
      "Requirement already satisfied: pygments>=2.4.0 in /home/darkroom2/.pyenv/versions/3.10.4/envs/yolo/lib/python3.10/site-packages (from ipython->-r ./yolov5/requirements.txt (line 38)) (2.13.0)\r\n",
      "Requirement already satisfied: traitlets>=5 in /home/darkroom2/.pyenv/versions/3.10.4/envs/yolo/lib/python3.10/site-packages (from ipython->-r ./yolov5/requirements.txt (line 38)) (5.3.0)\r\n",
      "Requirement already satisfied: matplotlib-inline in /home/darkroom2/.pyenv/versions/3.10.4/envs/yolo/lib/python3.10/site-packages (from ipython->-r ./yolov5/requirements.txt (line 38)) (0.1.5)\r\n",
      "Requirement already satisfied: decorator in /home/darkroom2/.pyenv/versions/3.10.4/envs/yolo/lib/python3.10/site-packages (from ipython->-r ./yolov5/requirements.txt (line 38)) (5.1.1)\r\n",
      "Requirement already satisfied: pickleshare in /home/darkroom2/.pyenv/versions/3.10.4/envs/yolo/lib/python3.10/site-packages (from ipython->-r ./yolov5/requirements.txt (line 38)) (0.7.5)\r\n",
      "Requirement already satisfied: backcall in /home/darkroom2/.pyenv/versions/3.10.4/envs/yolo/lib/python3.10/site-packages (from ipython->-r ./yolov5/requirements.txt (line 38)) (0.2.0)\r\n",
      "Requirement already satisfied: pyasn1-modules>=0.2.1 in /home/darkroom2/.pyenv/versions/3.10.4/envs/yolo/lib/python3.10/site-packages (from google-auth<3,>=1.6.3->tensorboard>=2.4.1->-r ./yolov5/requirements.txt (line 18)) (0.2.8)\r\n",
      "Requirement already satisfied: cachetools<6.0,>=2.0.0 in /home/darkroom2/.pyenv/versions/3.10.4/envs/yolo/lib/python3.10/site-packages (from google-auth<3,>=1.6.3->tensorboard>=2.4.1->-r ./yolov5/requirements.txt (line 18)) (5.2.0)\r\n",
      "Requirement already satisfied: rsa<5,>=3.1.4 in /home/darkroom2/.pyenv/versions/3.10.4/envs/yolo/lib/python3.10/site-packages (from google-auth<3,>=1.6.3->tensorboard>=2.4.1->-r ./yolov5/requirements.txt (line 18)) (4.9)\r\n",
      "Requirement already satisfied: six>=1.9.0 in /home/darkroom2/.pyenv/versions/3.10.4/envs/yolo/lib/python3.10/site-packages (from google-auth<3,>=1.6.3->tensorboard>=2.4.1->-r ./yolov5/requirements.txt (line 18)) (1.16.0)\r\n",
      "Requirement already satisfied: requests-oauthlib>=0.7.0 in /home/darkroom2/.pyenv/versions/3.10.4/envs/yolo/lib/python3.10/site-packages (from google-auth-oauthlib<0.5,>=0.4.1->tensorboard>=2.4.1->-r ./yolov5/requirements.txt (line 18)) (1.3.1)\r\n",
      "Requirement already satisfied: parso<0.9.0,>=0.8.0 in /home/darkroom2/.pyenv/versions/3.10.4/envs/yolo/lib/python3.10/site-packages (from jedi>=0.16->ipython->-r ./yolov5/requirements.txt (line 38)) (0.8.3)\r\n",
      "Requirement already satisfied: ptyprocess>=0.5 in /home/darkroom2/.pyenv/versions/3.10.4/envs/yolo/lib/python3.10/site-packages (from pexpect>4.3->ipython->-r ./yolov5/requirements.txt (line 38)) (0.7.0)\r\n",
      "Requirement already satisfied: wcwidth in /home/darkroom2/.pyenv/versions/3.10.4/envs/yolo/lib/python3.10/site-packages (from prompt-toolkit!=3.0.0,!=3.0.1,<3.1.0,>=2.0.0->ipython->-r ./yolov5/requirements.txt (line 38)) (0.2.5)\r\n",
      "Requirement already satisfied: MarkupSafe>=2.1.1 in /home/darkroom2/.pyenv/versions/3.10.4/envs/yolo/lib/python3.10/site-packages (from werkzeug>=1.0.1->tensorboard>=2.4.1->-r ./yolov5/requirements.txt (line 18)) (2.1.1)\r\n",
      "Requirement already satisfied: asttokens in /home/darkroom2/.pyenv/versions/3.10.4/envs/yolo/lib/python3.10/site-packages (from stack-data->ipython->-r ./yolov5/requirements.txt (line 38)) (2.0.8)\r\n",
      "Requirement already satisfied: pure-eval in /home/darkroom2/.pyenv/versions/3.10.4/envs/yolo/lib/python3.10/site-packages (from stack-data->ipython->-r ./yolov5/requirements.txt (line 38)) (0.2.2)\r\n",
      "Requirement already satisfied: executing in /home/darkroom2/.pyenv/versions/3.10.4/envs/yolo/lib/python3.10/site-packages (from stack-data->ipython->-r ./yolov5/requirements.txt (line 38)) (0.10.0)\r\n",
      "Requirement already satisfied: pyasn1<0.5.0,>=0.4.6 in /home/darkroom2/.pyenv/versions/3.10.4/envs/yolo/lib/python3.10/site-packages (from pyasn1-modules>=0.2.1->google-auth<3,>=1.6.3->tensorboard>=2.4.1->-r ./yolov5/requirements.txt (line 18)) (0.4.8)\r\n",
      "Requirement already satisfied: oauthlib>=3.0.0 in /home/darkroom2/.pyenv/versions/3.10.4/envs/yolo/lib/python3.10/site-packages (from requests-oauthlib>=0.7.0->google-auth-oauthlib<0.5,>=0.4.1->tensorboard>=2.4.1->-r ./yolov5/requirements.txt (line 18)) (3.2.0)\r\n",
      "Note: you may need to restart the kernel to use updated packages.\n"
     ]
    }
   ],
   "source": [
    "% pip install -r./ yolov5 / requirements.txt"
   ]
  },
  {
   "cell_type": "code",
   "execution_count": null,
   "metadata": {
    "pycharm": {
     "name": "#%%\n"
    }
   },
   "outputs": [],
   "source": [
    "!python yolov5 / train.py --img 640 --batch 16 --epochs 2 --data yolov5 / data / coco128.yaml --weights pretrained_models / yolov5n.pt --cache ram --device cpu --project./ trained_models --name xd"
   ]
  },
  {
   "cell_type": "code",
   "execution_count": 22,
   "metadata": {
    "pycharm": {
     "name": "#%%\n"
    }
   },
   "outputs": [],
   "source": [
    "import pandas as pd"
   ]
  },
  {
   "cell_type": "code",
   "execution_count": 23,
   "metadata": {
    "pycharm": {
     "name": "#%%\n"
    }
   },
   "outputs": [],
   "source": [
    "df = pd.read_csv('datasets/test_db/annotations.csv')"
   ]
  },
  {
   "cell_type": "code",
   "execution_count": 24,
   "metadata": {
    "pycharm": {
     "name": "#%%\n"
    }
   },
   "outputs": [
    {
     "data": {
      "text/plain": "    filename  width  height         label  xmin  ymin  xmax  ymax\n0      0.jpg    416     416  black-bishop   280   227   310   284\n1      0.jpg    416     416    black-king   311   110   345   195\n2      0.jpg    416     416   black-queen   237    85   262   159\n3      0.jpg    416     416    black-rook   331   277   366   333\n4      0.jpg    416     416    black-rook   235     3   255    51\n..       ...    ...     ...           ...   ...   ...   ...   ...\n104    6.jpg    416     416    black-rook   335   297   368   355\n105    6.jpg    416     416   black-queen   234    97   260   173\n106    6.jpg    416     416    black-pawn   273    84   291   128\n107    6.jpg    416     416    black-pawn   204   118   223   162\n108    6.jpg    416     416    black-pawn   248   204   270   251\n\n[109 rows x 8 columns]",
      "text/html": "<div>\n<style scoped>\n    .dataframe tbody tr th:only-of-type {\n        vertical-align: middle;\n    }\n\n    .dataframe tbody tr th {\n        vertical-align: top;\n    }\n\n    .dataframe thead th {\n        text-align: right;\n    }\n</style>\n<table border=\"1\" class=\"dataframe\">\n  <thead>\n    <tr style=\"text-align: right;\">\n      <th></th>\n      <th>filename</th>\n      <th>width</th>\n      <th>height</th>\n      <th>label</th>\n      <th>xmin</th>\n      <th>ymin</th>\n      <th>xmax</th>\n      <th>ymax</th>\n    </tr>\n  </thead>\n  <tbody>\n    <tr>\n      <th>0</th>\n      <td>0.jpg</td>\n      <td>416</td>\n      <td>416</td>\n      <td>black-bishop</td>\n      <td>280</td>\n      <td>227</td>\n      <td>310</td>\n      <td>284</td>\n    </tr>\n    <tr>\n      <th>1</th>\n      <td>0.jpg</td>\n      <td>416</td>\n      <td>416</td>\n      <td>black-king</td>\n      <td>311</td>\n      <td>110</td>\n      <td>345</td>\n      <td>195</td>\n    </tr>\n    <tr>\n      <th>2</th>\n      <td>0.jpg</td>\n      <td>416</td>\n      <td>416</td>\n      <td>black-queen</td>\n      <td>237</td>\n      <td>85</td>\n      <td>262</td>\n      <td>159</td>\n    </tr>\n    <tr>\n      <th>3</th>\n      <td>0.jpg</td>\n      <td>416</td>\n      <td>416</td>\n      <td>black-rook</td>\n      <td>331</td>\n      <td>277</td>\n      <td>366</td>\n      <td>333</td>\n    </tr>\n    <tr>\n      <th>4</th>\n      <td>0.jpg</td>\n      <td>416</td>\n      <td>416</td>\n      <td>black-rook</td>\n      <td>235</td>\n      <td>3</td>\n      <td>255</td>\n      <td>51</td>\n    </tr>\n    <tr>\n      <th>...</th>\n      <td>...</td>\n      <td>...</td>\n      <td>...</td>\n      <td>...</td>\n      <td>...</td>\n      <td>...</td>\n      <td>...</td>\n      <td>...</td>\n    </tr>\n    <tr>\n      <th>104</th>\n      <td>6.jpg</td>\n      <td>416</td>\n      <td>416</td>\n      <td>black-rook</td>\n      <td>335</td>\n      <td>297</td>\n      <td>368</td>\n      <td>355</td>\n    </tr>\n    <tr>\n      <th>105</th>\n      <td>6.jpg</td>\n      <td>416</td>\n      <td>416</td>\n      <td>black-queen</td>\n      <td>234</td>\n      <td>97</td>\n      <td>260</td>\n      <td>173</td>\n    </tr>\n    <tr>\n      <th>106</th>\n      <td>6.jpg</td>\n      <td>416</td>\n      <td>416</td>\n      <td>black-pawn</td>\n      <td>273</td>\n      <td>84</td>\n      <td>291</td>\n      <td>128</td>\n    </tr>\n    <tr>\n      <th>107</th>\n      <td>6.jpg</td>\n      <td>416</td>\n      <td>416</td>\n      <td>black-pawn</td>\n      <td>204</td>\n      <td>118</td>\n      <td>223</td>\n      <td>162</td>\n    </tr>\n    <tr>\n      <th>108</th>\n      <td>6.jpg</td>\n      <td>416</td>\n      <td>416</td>\n      <td>black-pawn</td>\n      <td>248</td>\n      <td>204</td>\n      <td>270</td>\n      <td>251</td>\n    </tr>\n  </tbody>\n</table>\n<p>109 rows × 8 columns</p>\n</div>"
     },
     "execution_count": 24,
     "metadata": {},
     "output_type": "execute_result"
    }
   ],
   "source": [
    "df"
   ]
  },
  {
   "cell_type": "code",
   "execution_count": 25,
   "metadata": {
    "pycharm": {
     "name": "#%%\n"
    }
   },
   "outputs": [],
   "source": [
    "grouped_df = df.groupby(['label']).agg({\n",
    "    'xmin': list,\n",
    "    'ymin': list,\n",
    "    'xmax': list,\n",
    "    'ymax': list,\n",
    "    'filename': list\n",
    "})"
   ]
  },
  {
   "cell_type": "code",
   "execution_count": 26,
   "metadata": {
    "pycharm": {
     "name": "#%%\n"
    }
   },
   "outputs": [
    {
     "data": {
      "text/plain": "                                                           xmin  \\\nlabel                                                             \nblack-bishop           [280, 298, 207, 251, 236, 236, 135, 174]   \nblack-king                                 [311, 243, 302, 257]   \nblack-knight                          [235, 172, 306, 325, 240]   \nblack-pawn    [267, 271, 280, 283, 254, 206, 207, 275, 264, ...   \nblack-queen                           [237, 284, 234, 203, 234]   \nblack-rook             [331, 235, 339, 291, 333, 292, 320, 335]   \nwhite-bishop                              [52, 66, 46, 137, 66]   \nwhite-king                               [56, 53, 129, 52, 131]   \nwhite-knight                            [141, 52, 134, 83, 133]   \nwhite-pawn    [172, 109, 110, 101, 98, 97, 176, 165, 163, 10...   \nwhite-queen                                     [138, 100, 130]   \nwhite-rook                           [91, 73, 131, 72, 70, 170]   \n\n                                                           ymin  \\\nlabel                                                             \nblack-bishop             [227, 38, 109, 241, 110, 35, 195, 153]   \nblack-king                                  [110, 172, 81, 268]   \nblack-knight                            [27, 134, 85, 199, 115]   \nblack-pawn    [38, 72, 145, 188, 284, 5, 103, 121, 18, 53, 8...   \nblack-queen                              [85, 137, 93, 139, 97]   \nblack-rook                 [277, 3, 297, 10, 296, 10, 194, 297]   \nwhite-bishop                            [174, 33, 246, 150, 34]   \nwhite-king                            [111, 129, 128, 127, 129]   \nwhite-knight                           [53, 221, 109, 298, 108]   \nwhite-pawn    [103, 3, 69, 148, 192, 233, 282, 81, 16, 48, 1...   \nwhite-queen                                        [87, 57, 24]   \nwhite-rook                            [280, 0, 295, 14, 11, 79]   \n\n                                                           xmax  \\\nlabel                                                             \nblack-bishop           [310, 318, 227, 279, 260, 262, 164, 196]   \nblack-king                                 [345, 277, 336, 291]   \nblack-knight                          [256, 196, 336, 354, 264]   \nblack-pawn    [286, 291, 303, 305, 278, 225, 226, 293, 281, ...   \nblack-queen                           [262, 305, 259, 230, 260]   \nblack-rook             [366, 255, 369, 313, 367, 316, 350, 368]   \nwhite-bishop                              [79, 89, 73, 159, 90]   \nwhite-king                               [87, 83, 161, 87, 162]   \nwhite-knight                           [163, 83, 158, 115, 158]   \nwhite-pawn    [192, 129, 130, 126, 121, 121, 199, 183, 181, ...   \nwhite-queen                                     [165, 128, 157]   \nwhite-rook                          [119, 98, 158, 93, 94, 195]   \n\n                                                           ymax  \\\nlabel                                                             \nblack-bishop             [284, 93, 163, 306, 169, 97, 253, 210]   \nblack-king                                 [195, 256, 167, 354]   \nblack-knight                           [84, 195, 163, 255, 172]   \nblack-pawn    [82, 116, 190, 233, 333, 50, 147, 164, 59, 95,...   \nblack-queen                           [159, 206, 174, 214, 173]   \nblack-rook                [333, 51, 355, 59, 355, 61, 249, 355]   \nwhite-bishop                            [231, 92, 305, 205, 92]   \nwhite-king                            [191, 211, 213, 213, 213]   \nwhite-knight                          [106, 281, 164, 360, 163]   \nwhite-pawn    [147, 46, 112, 192, 235, 279, 332, 124, 57, 88...   \nwhite-queen                                      [158, 127, 99]   \nwhite-rook                          [335, 46, 352, 62, 61, 132]   \n\n                                                       filename  \nlabel                                                            \nblack-bishop  [0.jpg, 1.jpg, 1.jpg, 4.jpg, 4.jpg, 4.jpg, 4.j...  \nblack-king                         [0.jpg, 2.jpg, 4.jpg, 6.jpg]  \nblack-knight                [0.jpg, 0.jpg, 1.jpg, 1.jpg, 1.jpg]  \nblack-pawn    [0.jpg, 0.jpg, 0.jpg, 0.jpg, 0.jpg, 0.jpg, 0.j...  \nblack-queen                 [0.jpg, 1.jpg, 2.jpg, 4.jpg, 6.jpg]  \nblack-rook    [0.jpg, 0.jpg, 1.jpg, 1.jpg, 2.jpg, 4.jpg, 4.j...  \nwhite-bishop                [0.jpg, 1.jpg, 1.jpg, 4.jpg, 4.jpg]  \nwhite-king                  [0.jpg, 1.jpg, 2.jpg, 4.jpg, 6.jpg]  \nwhite-knight                [0.jpg, 0.jpg, 1.jpg, 4.jpg, 4.jpg]  \nwhite-pawn    [0.jpg, 0.jpg, 0.jpg, 0.jpg, 0.jpg, 0.jpg, 0.j...  \nwhite-queen                               [0.jpg, 1.jpg, 4.jpg]  \nwhite-rook           [0.jpg, 0.jpg, 1.jpg, 1.jpg, 4.jpg, 6.jpg]  ",
      "text/html": "<div>\n<style scoped>\n    .dataframe tbody tr th:only-of-type {\n        vertical-align: middle;\n    }\n\n    .dataframe tbody tr th {\n        vertical-align: top;\n    }\n\n    .dataframe thead th {\n        text-align: right;\n    }\n</style>\n<table border=\"1\" class=\"dataframe\">\n  <thead>\n    <tr style=\"text-align: right;\">\n      <th></th>\n      <th>xmin</th>\n      <th>ymin</th>\n      <th>xmax</th>\n      <th>ymax</th>\n      <th>filename</th>\n    </tr>\n    <tr>\n      <th>label</th>\n      <th></th>\n      <th></th>\n      <th></th>\n      <th></th>\n      <th></th>\n    </tr>\n  </thead>\n  <tbody>\n    <tr>\n      <th>black-bishop</th>\n      <td>[280, 298, 207, 251, 236, 236, 135, 174]</td>\n      <td>[227, 38, 109, 241, 110, 35, 195, 153]</td>\n      <td>[310, 318, 227, 279, 260, 262, 164, 196]</td>\n      <td>[284, 93, 163, 306, 169, 97, 253, 210]</td>\n      <td>[0.jpg, 1.jpg, 1.jpg, 4.jpg, 4.jpg, 4.jpg, 4.j...</td>\n    </tr>\n    <tr>\n      <th>black-king</th>\n      <td>[311, 243, 302, 257]</td>\n      <td>[110, 172, 81, 268]</td>\n      <td>[345, 277, 336, 291]</td>\n      <td>[195, 256, 167, 354]</td>\n      <td>[0.jpg, 2.jpg, 4.jpg, 6.jpg]</td>\n    </tr>\n    <tr>\n      <th>black-knight</th>\n      <td>[235, 172, 306, 325, 240]</td>\n      <td>[27, 134, 85, 199, 115]</td>\n      <td>[256, 196, 336, 354, 264]</td>\n      <td>[84, 195, 163, 255, 172]</td>\n      <td>[0.jpg, 0.jpg, 1.jpg, 1.jpg, 1.jpg]</td>\n    </tr>\n    <tr>\n      <th>black-pawn</th>\n      <td>[267, 271, 280, 283, 254, 206, 207, 275, 264, ...</td>\n      <td>[38, 72, 145, 188, 284, 5, 103, 121, 18, 53, 8...</td>\n      <td>[286, 291, 303, 305, 278, 225, 226, 293, 281, ...</td>\n      <td>[82, 116, 190, 233, 333, 50, 147, 164, 59, 95,...</td>\n      <td>[0.jpg, 0.jpg, 0.jpg, 0.jpg, 0.jpg, 0.jpg, 0.j...</td>\n    </tr>\n    <tr>\n      <th>black-queen</th>\n      <td>[237, 284, 234, 203, 234]</td>\n      <td>[85, 137, 93, 139, 97]</td>\n      <td>[262, 305, 259, 230, 260]</td>\n      <td>[159, 206, 174, 214, 173]</td>\n      <td>[0.jpg, 1.jpg, 2.jpg, 4.jpg, 6.jpg]</td>\n    </tr>\n    <tr>\n      <th>black-rook</th>\n      <td>[331, 235, 339, 291, 333, 292, 320, 335]</td>\n      <td>[277, 3, 297, 10, 296, 10, 194, 297]</td>\n      <td>[366, 255, 369, 313, 367, 316, 350, 368]</td>\n      <td>[333, 51, 355, 59, 355, 61, 249, 355]</td>\n      <td>[0.jpg, 0.jpg, 1.jpg, 1.jpg, 2.jpg, 4.jpg, 4.j...</td>\n    </tr>\n    <tr>\n      <th>white-bishop</th>\n      <td>[52, 66, 46, 137, 66]</td>\n      <td>[174, 33, 246, 150, 34]</td>\n      <td>[79, 89, 73, 159, 90]</td>\n      <td>[231, 92, 305, 205, 92]</td>\n      <td>[0.jpg, 1.jpg, 1.jpg, 4.jpg, 4.jpg]</td>\n    </tr>\n    <tr>\n      <th>white-king</th>\n      <td>[56, 53, 129, 52, 131]</td>\n      <td>[111, 129, 128, 127, 129]</td>\n      <td>[87, 83, 161, 87, 162]</td>\n      <td>[191, 211, 213, 213, 213]</td>\n      <td>[0.jpg, 1.jpg, 2.jpg, 4.jpg, 6.jpg]</td>\n    </tr>\n    <tr>\n      <th>white-knight</th>\n      <td>[141, 52, 134, 83, 133]</td>\n      <td>[53, 221, 109, 298, 108]</td>\n      <td>[163, 83, 158, 115, 158]</td>\n      <td>[106, 281, 164, 360, 163]</td>\n      <td>[0.jpg, 0.jpg, 1.jpg, 4.jpg, 4.jpg]</td>\n    </tr>\n    <tr>\n      <th>white-pawn</th>\n      <td>[172, 109, 110, 101, 98, 97, 176, 165, 163, 10...</td>\n      <td>[103, 3, 69, 148, 192, 233, 282, 81, 16, 48, 1...</td>\n      <td>[192, 129, 130, 126, 121, 121, 199, 183, 181, ...</td>\n      <td>[147, 46, 112, 192, 235, 279, 332, 124, 57, 88...</td>\n      <td>[0.jpg, 0.jpg, 0.jpg, 0.jpg, 0.jpg, 0.jpg, 0.j...</td>\n    </tr>\n    <tr>\n      <th>white-queen</th>\n      <td>[138, 100, 130]</td>\n      <td>[87, 57, 24]</td>\n      <td>[165, 128, 157]</td>\n      <td>[158, 127, 99]</td>\n      <td>[0.jpg, 1.jpg, 4.jpg]</td>\n    </tr>\n    <tr>\n      <th>white-rook</th>\n      <td>[91, 73, 131, 72, 70, 170]</td>\n      <td>[280, 0, 295, 14, 11, 79]</td>\n      <td>[119, 98, 158, 93, 94, 195]</td>\n      <td>[335, 46, 352, 62, 61, 132]</td>\n      <td>[0.jpg, 0.jpg, 1.jpg, 1.jpg, 4.jpg, 6.jpg]</td>\n    </tr>\n  </tbody>\n</table>\n</div>"
     },
     "execution_count": 26,
     "metadata": {},
     "output_type": "execute_result"
    }
   ],
   "source": [
    "grouped_df"
   ]
  },
  {
   "cell_type": "markdown",
   "source": [
    "Poniższe ścieżki należy uzupełnić. Dodatkowo plik `classes.names` należy utworzyć zgodnie ze schematem:\n",
    "```text\n",
    "class_name_0\n",
    "class_name_1\n",
    "class_name_2\n",
    "class_name_3\n",
    "class_name_4\n",
    "class_name_5\n",
    "```"
   ],
   "metadata": {
    "collapsed": false,
    "pycharm": {
     "name": "#%% md\n"
    }
   }
  },
  {
   "cell_type": "code",
   "execution_count": 27,
   "outputs": [],
   "source": [
    "# Sciezka do starych anotacji (labeli) w formacie csv\n",
    "csv_path = 'datasets/test_db/annotations.csv'\n",
    "# Sciezka do obrazow\n",
    "images_path = 'datasets/test_db/images'\n",
    "# Sciezka do pliku z nazwami klas (yolo wymaga ID klasy, a nie nazwy!)\n",
    "classes_names_path = 'datasets/test_db/classes.names'\n",
    "# Sciezka do zapisu datasetu w nowym formacie\n",
    "dataset_path = 'datasets/test_db_converted'"
   ],
   "metadata": {
    "collapsed": false,
    "pycharm": {
     "name": "#%%\n"
    }
   }
  },
  {
   "cell_type": "code",
   "execution_count": 28,
   "outputs": [],
   "source": [
    "from collections import defaultdict\n",
    "from pathlib import Path\n",
    "from shutil import copy\n",
    "\n",
    "from PIL import Image\n",
    "\n",
    "classes_names_file = Path(classes_names_path)\n",
    "classes_names_list = classes_names_file.read_text(encoding='utf8').split()\n",
    "class_name_id_map = {class_name: idx for idx, class_name in enumerate(classes_names_list)}\n",
    "\n",
    "images_old_dir = Path(images_path)\n",
    "dataset_dir = Path(dataset_path)\n",
    "images_new_dir = dataset_dir / 'images'\n",
    "images_new_dir.mkdir(exist_ok=True, parents=True)\n",
    "labels_dir = dataset_dir / 'labels'\n",
    "labels_dir.mkdir(exist_ok=True, parents=True)\n",
    "\n",
    "csv_file = Path(csv_path)\n",
    "csv_content = csv_file.read_text(encoding='utf8')\n",
    "csv_lines = csv_content.split()\n",
    "csv_rows = [line.split(',') for line in csv_lines]\n",
    "header_row = csv_rows[0]\n",
    "# Mapowanie nazw kolumn na index (kolejność) na liście z nagłówkiem\n",
    "col_idx = {col_name: idx for idx, col_name in enumerate(header_row)}\n",
    "data_rows = csv_rows[1:]\n",
    "\n",
    "file_bounds_map = defaultdict(list)\n",
    "\n",
    "for row in data_rows:\n",
    "    filename = str(row[col_idx['filename']])\n",
    "    class_name = row[col_idx['label']]\n",
    "    xmin = int(row[col_idx['xmin']])\n",
    "    ymin = int(row[col_idx['ymin']])\n",
    "    xmax = int(row[col_idx['xmax']])\n",
    "    ymax = int(row[col_idx['ymax']])\n",
    "\n",
    "    # Format yolo:\n",
    "    # class x_center y_center width height\n",
    "\n",
    "    image_file = images_old_dir / filename\n",
    "    img_w, img_h = Image.open(image_file).size\n",
    "\n",
    "    w = xmax - xmin\n",
    "    h = ymax - ymin\n",
    "    x_cnt = (xmin + xmax) / 2.0\n",
    "    y_cnt = (ymin + ymax) / 2.0\n",
    "\n",
    "    norm_bounds = [x_cnt / img_w, y_cnt / img_h, w / img_w, h / img_h]\n",
    "    bounds_str = ' '.join(f'{i:.6f}' for i in norm_bounds)\n",
    "\n",
    "    yolo_fmt_str = f'{class_name_id_map.get(class_name, 0)} {bounds_str}'\n",
    "    file_bounds_map[filename].append(yolo_fmt_str)\n",
    "\n",
    "for filename, bounds_list in file_bounds_map.items():\n",
    "    image_old_file = images_old_dir / filename\n",
    "    image_new_file = images_new_dir / filename\n",
    "    copy(image_old_file, image_new_file)\n",
    "\n",
    "    label_file_name = image_new_file.with_suffix('.txt').name\n",
    "    label_file = labels_dir.joinpath(label_file_name)\n",
    "    label_file_content = '\\n'.join(bounds_list)\n",
    "    label_file.write_text(label_file_content, encoding='utf8')"
   ],
   "metadata": {
    "collapsed": false,
    "pycharm": {
     "name": "#%%\n"
    }
   }
  },
  {
   "cell_type": "code",
   "execution_count": 45,
   "outputs": [],
   "source": [
    "images_dir = 'datasets/test_db_converted/images'\n",
    "labels_dir = 'datasets/test_db_converted/labels'\n",
    "\n",
    "seed = 1337\n",
    "ratio = (.8, 0.1, 0.1)"
   ],
   "metadata": {
    "collapsed": false,
    "pycharm": {
     "name": "#%%\n"
    }
   }
  },
  {
   "cell_type": "code",
   "execution_count": 47,
   "outputs": [],
   "source": [
    "from shutil import move\n",
    "import random\n",
    "\n",
    "random.seed(seed)  # make sure its reproducible\n",
    "\n",
    "for directory_path in [images_dir, labels_dir]:\n",
    "    directory = Path(directory_path)\n",
    "    files = [f for f in directory.iterdir() if f.is_file() and not f.name.startswith(\".\")]\n",
    "    files.sort()\n",
    "    random.shuffle(files)\n",
    "\n",
    "    # the data was shuffled already\n",
    "    split_train_idx = int(round(ratio[0] * len(files)))\n",
    "    split_val_idx = split_train_idx + int(round(ratio[1] * len(files)))\n",
    "\n",
    "    use_test = len(ratio) == 3\n",
    "\n",
    "    files_train = files[:split_train_idx]\n",
    "    files_val = files[split_train_idx:split_val_idx] if use_test else files[split_train_idx:]\n",
    "\n",
    "    li = [(files_train, \"train\"), (files_val, \"val\")]\n",
    "\n",
    "    # optional test folder\n",
    "    if use_test:\n",
    "        files_test = files[split_val_idx:]\n",
    "        li.append((files_test, \"test\"))\n",
    "\n",
    "    for files, folder_type in li:\n",
    "        end_path = directory / folder_type\n",
    "        Path(end_path).mkdir(parents=True, exist_ok=True)\n",
    "        for f in files:\n",
    "            move(str(f), str(end_path))"
   ],
   "metadata": {
    "collapsed": false,
    "pycharm": {
     "name": "#%%\n"
    }
   }
  },
  {
   "cell_type": "code",
   "execution_count": null,
   "outputs": [],
   "source": [],
   "metadata": {
    "collapsed": false,
    "pycharm": {
     "name": "#%%\n"
    }
   }
  }
 ],
 "metadata": {
  "kernelspec": {
   "display_name": "Python 3.10.4 64-bit ('yolo')",
   "language": "python",
   "name": "python3"
  },
  "language_info": {
   "codemirror_mode": {
    "name": "ipython",
    "version": 3
   },
   "file_extension": ".py",
   "mimetype": "text/x-python",
   "name": "python",
   "nbconvert_exporter": "python",
   "pygments_lexer": "ipython3",
   "version": "3.10.4"
  },
  "orig_nbformat": 4,
  "vscode": {
   "interpreter": {
    "hash": "583f1c046f5aaf73ddcfb3ff7849f54a1027028301bd5029eaffadc8575af2b9"
   }
  }
 },
 "nbformat": 4,
 "nbformat_minor": 2
}