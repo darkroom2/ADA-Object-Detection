{
 "cells": [
  {
   "cell_type": "code",
   "execution_count": 20,
   "metadata": {
    "pycharm": {
     "name": "#%%\n"
    }
   },
   "outputs": [
    {
     "name": "stdout",
     "output_type": "stream",
     "text": [
      "Requirement already satisfied: torch in /home/darkroom2/.pyenv/versions/3.10.4/envs/yolo/lib/python3.10/site-packages (from -r ./requirements.txt (line 1)) (1.12.1+cpu)\r\n",
      "Requirement already satisfied: torchvision in /home/darkroom2/.pyenv/versions/3.10.4/envs/yolo/lib/python3.10/site-packages (from -r ./requirements.txt (line 2)) (0.13.1+cpu)\r\n",
      "Requirement already satisfied: torchaudio in /home/darkroom2/.pyenv/versions/3.10.4/envs/yolo/lib/python3.10/site-packages (from -r ./requirements.txt (line 3)) (0.12.1+cpu)\r\n",
      "Requirement already satisfied: jupyterlab in /home/darkroom2/.pyenv/versions/3.10.4/envs/yolo/lib/python3.10/site-packages (from -r ./requirements.txt (line 4)) (3.4.5)\r\n",
      "Requirement already satisfied: torch-tb-profiler in /home/darkroom2/.pyenv/versions/3.10.4/envs/yolo/lib/python3.10/site-packages (from -r ./requirements.txt (line 5)) (0.4.0)\r\n",
      "Requirement already satisfied: wandb<=0.12.10 in /home/darkroom2/.pyenv/versions/3.10.4/envs/yolo/lib/python3.10/site-packages (from -r ./requirements.txt (line 6)) (0.12.10)\r\n",
      "Requirement already satisfied: clearml in /home/darkroom2/.pyenv/versions/3.10.4/envs/yolo/lib/python3.10/site-packages (from -r ./requirements.txt (line 7)) (1.6.4)\r\n",
      "Collecting split-folders\r\n",
      "  Downloading split_folders-0.5.1-py3-none-any.whl (8.4 kB)\r\n",
      "Requirement already satisfied: typing-extensions in /home/darkroom2/.pyenv/versions/3.10.4/envs/yolo/lib/python3.10/site-packages (from torch->-r ./requirements.txt (line 1)) (4.3.0)\r\n",
      "Requirement already satisfied: pillow!=8.3.*,>=5.3.0 in /home/darkroom2/.pyenv/versions/3.10.4/envs/yolo/lib/python3.10/site-packages (from torchvision->-r ./requirements.txt (line 2)) (9.2.0)\r\n",
      "Requirement already satisfied: requests in /home/darkroom2/.pyenv/versions/3.10.4/envs/yolo/lib/python3.10/site-packages (from torchvision->-r ./requirements.txt (line 2)) (2.28.1)\r\n",
      "Requirement already satisfied: numpy in /home/darkroom2/.pyenv/versions/3.10.4/envs/yolo/lib/python3.10/site-packages (from torchvision->-r ./requirements.txt (line 2)) (1.23.2)\r\n",
      "Requirement already satisfied: notebook<7 in /home/darkroom2/.pyenv/versions/3.10.4/envs/yolo/lib/python3.10/site-packages (from jupyterlab->-r ./requirements.txt (line 4)) (6.4.12)\r\n",
      "Requirement already satisfied: jupyter-server~=1.16 in /home/darkroom2/.pyenv/versions/3.10.4/envs/yolo/lib/python3.10/site-packages (from jupyterlab->-r ./requirements.txt (line 4)) (1.18.1)\r\n",
      "Requirement already satisfied: jupyter-core in /home/darkroom2/.pyenv/versions/3.10.4/envs/yolo/lib/python3.10/site-packages (from jupyterlab->-r ./requirements.txt (line 4)) (4.11.1)\r\n",
      "Requirement already satisfied: tornado>=6.1.0 in /home/darkroom2/.pyenv/versions/3.10.4/envs/yolo/lib/python3.10/site-packages (from jupyterlab->-r ./requirements.txt (line 4)) (6.2)\r\n",
      "Requirement already satisfied: jinja2>=2.1 in /home/darkroom2/.pyenv/versions/3.10.4/envs/yolo/lib/python3.10/site-packages (from jupyterlab->-r ./requirements.txt (line 4)) (3.1.2)\r\n",
      "Requirement already satisfied: jupyterlab-server~=2.10 in /home/darkroom2/.pyenv/versions/3.10.4/envs/yolo/lib/python3.10/site-packages (from jupyterlab->-r ./requirements.txt (line 4)) (2.15.0)\r\n",
      "Requirement already satisfied: nbclassic in /home/darkroom2/.pyenv/versions/3.10.4/envs/yolo/lib/python3.10/site-packages (from jupyterlab->-r ./requirements.txt (line 4)) (0.4.3)\r\n",
      "Requirement already satisfied: ipython in /home/darkroom2/.pyenv/versions/3.10.4/envs/yolo/lib/python3.10/site-packages (from jupyterlab->-r ./requirements.txt (line 4)) (8.4.0)\r\n",
      "Requirement already satisfied: packaging in /home/darkroom2/.pyenv/versions/3.10.4/envs/yolo/lib/python3.10/site-packages (from jupyterlab->-r ./requirements.txt (line 4)) (21.3)\r\n",
      "Requirement already satisfied: pandas>=1.0.0 in /home/darkroom2/.pyenv/versions/3.10.4/envs/yolo/lib/python3.10/site-packages (from torch-tb-profiler->-r ./requirements.txt (line 5)) (1.4.3)\r\n",
      "Requirement already satisfied: tensorboard!=2.1.0,>=1.15 in /home/darkroom2/.pyenv/versions/3.10.4/envs/yolo/lib/python3.10/site-packages (from torch-tb-profiler->-r ./requirements.txt (line 5)) (2.10.0)\r\n",
      "Requirement already satisfied: PyYAML in /home/darkroom2/.pyenv/versions/3.10.4/envs/yolo/lib/python3.10/site-packages (from wandb<=0.12.10->-r ./requirements.txt (line 6)) (6.0)\r\n",
      "Requirement already satisfied: sentry-sdk>=1.0.0 in /home/darkroom2/.pyenv/versions/3.10.4/envs/yolo/lib/python3.10/site-packages (from wandb<=0.12.10->-r ./requirements.txt (line 6)) (1.9.5)\r\n",
      "Requirement already satisfied: shortuuid>=0.5.0 in /home/darkroom2/.pyenv/versions/3.10.4/envs/yolo/lib/python3.10/site-packages (from wandb<=0.12.10->-r ./requirements.txt (line 6)) (1.0.9)\r\n",
      "Requirement already satisfied: pathtools in /home/darkroom2/.pyenv/versions/3.10.4/envs/yolo/lib/python3.10/site-packages (from wandb<=0.12.10->-r ./requirements.txt (line 6)) (0.1.2)\r\n",
      "Requirement already satisfied: psutil>=5.0.0 in /home/darkroom2/.pyenv/versions/3.10.4/envs/yolo/lib/python3.10/site-packages (from wandb<=0.12.10->-r ./requirements.txt (line 6)) (5.9.1)\r\n",
      "Requirement already satisfied: promise<3,>=2.0 in /home/darkroom2/.pyenv/versions/3.10.4/envs/yolo/lib/python3.10/site-packages (from wandb<=0.12.10->-r ./requirements.txt (line 6)) (2.3)\r\n",
      "Requirement already satisfied: protobuf>=3.12.0 in /home/darkroom2/.pyenv/versions/3.10.4/envs/yolo/lib/python3.10/site-packages (from wandb<=0.12.10->-r ./requirements.txt (line 6)) (3.19.4)\r\n",
      "Requirement already satisfied: yaspin>=1.0.0 in /home/darkroom2/.pyenv/versions/3.10.4/envs/yolo/lib/python3.10/site-packages (from wandb<=0.12.10->-r ./requirements.txt (line 6)) (2.2.0)\r\n",
      "Requirement already satisfied: Click!=8.0.0,>=7.0 in /home/darkroom2/.pyenv/versions/3.10.4/envs/yolo/lib/python3.10/site-packages (from wandb<=0.12.10->-r ./requirements.txt (line 6)) (8.1.3)\r\n",
      "Requirement already satisfied: GitPython>=1.0.0 in /home/darkroom2/.pyenv/versions/3.10.4/envs/yolo/lib/python3.10/site-packages (from wandb<=0.12.10->-r ./requirements.txt (line 6)) (3.1.27)\r\n",
      "Requirement already satisfied: python-dateutil>=2.6.1 in /home/darkroom2/.pyenv/versions/3.10.4/envs/yolo/lib/python3.10/site-packages (from wandb<=0.12.10->-r ./requirements.txt (line 6)) (2.8.2)\r\n",
      "Requirement already satisfied: docker-pycreds>=0.4.0 in /home/darkroom2/.pyenv/versions/3.10.4/envs/yolo/lib/python3.10/site-packages (from wandb<=0.12.10->-r ./requirements.txt (line 6)) (0.4.0)\r\n",
      "Requirement already satisfied: six>=1.13.0 in /home/darkroom2/.pyenv/versions/3.10.4/envs/yolo/lib/python3.10/site-packages (from wandb<=0.12.10->-r ./requirements.txt (line 6)) (1.16.0)\r\n",
      "Requirement already satisfied: urllib3>=1.21.1 in /home/darkroom2/.pyenv/versions/3.10.4/envs/yolo/lib/python3.10/site-packages (from clearml->-r ./requirements.txt (line 7)) (1.26.11)\r\n",
      "Requirement already satisfied: furl>=2.0.0 in /home/darkroom2/.pyenv/versions/3.10.4/envs/yolo/lib/python3.10/site-packages (from clearml->-r ./requirements.txt (line 7)) (2.1.3)\r\n",
      "Requirement already satisfied: pathlib2>=2.3.0 in /home/darkroom2/.pyenv/versions/3.10.4/envs/yolo/lib/python3.10/site-packages (from clearml->-r ./requirements.txt (line 7)) (2.3.7.post1)\r\n",
      "Requirement already satisfied: pyparsing>=2.0.3 in /home/darkroom2/.pyenv/versions/3.10.4/envs/yolo/lib/python3.10/site-packages (from clearml->-r ./requirements.txt (line 7)) (3.0.9)\r\n",
      "Requirement already satisfied: pyjwt<2.5.0,>=2.4.0 in /home/darkroom2/.pyenv/versions/3.10.4/envs/yolo/lib/python3.10/site-packages (from clearml->-r ./requirements.txt (line 7)) (2.4.0)\r\n",
      "Requirement already satisfied: future>=0.16.0 in /home/darkroom2/.pyenv/versions/3.10.4/envs/yolo/lib/python3.10/site-packages (from clearml->-r ./requirements.txt (line 7)) (0.18.2)\r\n",
      "Requirement already satisfied: attrs>=18.0 in /home/darkroom2/.pyenv/versions/3.10.4/envs/yolo/lib/python3.10/site-packages (from clearml->-r ./requirements.txt (line 7)) (22.1.0)\r\n",
      "Requirement already satisfied: jsonschema>=2.6.0 in /home/darkroom2/.pyenv/versions/3.10.4/envs/yolo/lib/python3.10/site-packages (from clearml->-r ./requirements.txt (line 7)) (4.10.2)\r\n",
      "Requirement already satisfied: orderedmultidict>=1.0.1 in /home/darkroom2/.pyenv/versions/3.10.4/envs/yolo/lib/python3.10/site-packages (from furl>=2.0.0->clearml->-r ./requirements.txt (line 7)) (1.0.1)\r\n",
      "Requirement already satisfied: gitdb<5,>=4.0.1 in /home/darkroom2/.pyenv/versions/3.10.4/envs/yolo/lib/python3.10/site-packages (from GitPython>=1.0.0->wandb<=0.12.10->-r ./requirements.txt (line 6)) (4.0.9)\r\n",
      "Requirement already satisfied: MarkupSafe>=2.0 in /home/darkroom2/.pyenv/versions/3.10.4/envs/yolo/lib/python3.10/site-packages (from jinja2>=2.1->jupyterlab->-r ./requirements.txt (line 4)) (2.1.1)\r\n",
      "Requirement already satisfied: pyrsistent!=0.17.0,!=0.17.1,!=0.17.2,>=0.14.0 in /home/darkroom2/.pyenv/versions/3.10.4/envs/yolo/lib/python3.10/site-packages (from jsonschema>=2.6.0->clearml->-r ./requirements.txt (line 7)) (0.18.1)\r\n",
      "Requirement already satisfied: jupyter-client>=6.1.12 in /home/darkroom2/.pyenv/versions/3.10.4/envs/yolo/lib/python3.10/site-packages (from jupyter-server~=1.16->jupyterlab->-r ./requirements.txt (line 4)) (7.3.4)\r\n",
      "Requirement already satisfied: Send2Trash in /home/darkroom2/.pyenv/versions/3.10.4/envs/yolo/lib/python3.10/site-packages (from jupyter-server~=1.16->jupyterlab->-r ./requirements.txt (line 4)) (1.8.0)\r\n",
      "Requirement already satisfied: terminado>=0.8.3 in /home/darkroom2/.pyenv/versions/3.10.4/envs/yolo/lib/python3.10/site-packages (from jupyter-server~=1.16->jupyterlab->-r ./requirements.txt (line 4)) (0.15.0)\r\n",
      "Requirement already satisfied: pyzmq>=17 in /home/darkroom2/.pyenv/versions/3.10.4/envs/yolo/lib/python3.10/site-packages (from jupyter-server~=1.16->jupyterlab->-r ./requirements.txt (line 4)) (23.2.1)\r\n",
      "Requirement already satisfied: websocket-client in /home/darkroom2/.pyenv/versions/3.10.4/envs/yolo/lib/python3.10/site-packages (from jupyter-server~=1.16->jupyterlab->-r ./requirements.txt (line 4)) (1.3.3)\r\n",
      "Requirement already satisfied: argon2-cffi in /home/darkroom2/.pyenv/versions/3.10.4/envs/yolo/lib/python3.10/site-packages (from jupyter-server~=1.16->jupyterlab->-r ./requirements.txt (line 4)) (21.3.0)\r\n",
      "Requirement already satisfied: traitlets>=5.1 in /home/darkroom2/.pyenv/versions/3.10.4/envs/yolo/lib/python3.10/site-packages (from jupyter-server~=1.16->jupyterlab->-r ./requirements.txt (line 4)) (5.3.0)\r\n",
      "Requirement already satisfied: nbformat>=5.2.0 in /home/darkroom2/.pyenv/versions/3.10.4/envs/yolo/lib/python3.10/site-packages (from jupyter-server~=1.16->jupyterlab->-r ./requirements.txt (line 4)) (5.4.0)\r\n",
      "Requirement already satisfied: anyio<4,>=3.1.0 in /home/darkroom2/.pyenv/versions/3.10.4/envs/yolo/lib/python3.10/site-packages (from jupyter-server~=1.16->jupyterlab->-r ./requirements.txt (line 4)) (3.6.1)\r\n",
      "Requirement already satisfied: prometheus-client in /home/darkroom2/.pyenv/versions/3.10.4/envs/yolo/lib/python3.10/site-packages (from jupyter-server~=1.16->jupyterlab->-r ./requirements.txt (line 4)) (0.14.1)\r\n",
      "Requirement already satisfied: nbconvert>=6.4.4 in /home/darkroom2/.pyenv/versions/3.10.4/envs/yolo/lib/python3.10/site-packages (from jupyter-server~=1.16->jupyterlab->-r ./requirements.txt (line 4)) (6.5.3)\r\n",
      "Requirement already satisfied: json5 in /home/darkroom2/.pyenv/versions/3.10.4/envs/yolo/lib/python3.10/site-packages (from jupyterlab-server~=2.10->jupyterlab->-r ./requirements.txt (line 4)) (0.9.9)\r\n",
      "Requirement already satisfied: babel in /home/darkroom2/.pyenv/versions/3.10.4/envs/yolo/lib/python3.10/site-packages (from jupyterlab-server~=2.10->jupyterlab->-r ./requirements.txt (line 4)) (2.10.3)\r\n",
      "Requirement already satisfied: nest-asyncio>=1.5 in /home/darkroom2/.pyenv/versions/3.10.4/envs/yolo/lib/python3.10/site-packages (from notebook<7->jupyterlab->-r ./requirements.txt (line 4)) (1.5.5)\r\n",
      "Requirement already satisfied: ipython-genutils in /home/darkroom2/.pyenv/versions/3.10.4/envs/yolo/lib/python3.10/site-packages (from notebook<7->jupyterlab->-r ./requirements.txt (line 4)) (0.2.0)\r\n",
      "Requirement already satisfied: ipykernel in /home/darkroom2/.pyenv/versions/3.10.4/envs/yolo/lib/python3.10/site-packages (from notebook<7->jupyterlab->-r ./requirements.txt (line 4)) (6.15.1)\r\n",
      "Requirement already satisfied: pytz>=2020.1 in /home/darkroom2/.pyenv/versions/3.10.4/envs/yolo/lib/python3.10/site-packages (from pandas>=1.0.0->torch-tb-profiler->-r ./requirements.txt (line 5)) (2022.2.1)\r\n",
      "Requirement already satisfied: certifi>=2017.4.17 in /home/darkroom2/.pyenv/versions/3.10.4/envs/yolo/lib/python3.10/site-packages (from requests->torchvision->-r ./requirements.txt (line 2)) (2022.6.15)\r\n",
      "Requirement already satisfied: idna<4,>=2.5 in /home/darkroom2/.pyenv/versions/3.10.4/envs/yolo/lib/python3.10/site-packages (from requests->torchvision->-r ./requirements.txt (line 2)) (3.3)\r\n",
      "Requirement already satisfied: charset-normalizer<3,>=2 in /home/darkroom2/.pyenv/versions/3.10.4/envs/yolo/lib/python3.10/site-packages (from requests->torchvision->-r ./requirements.txt (line 2)) (2.1.0)\r\n",
      "Requirement already satisfied: google-auth<3,>=1.6.3 in /home/darkroom2/.pyenv/versions/3.10.4/envs/yolo/lib/python3.10/site-packages (from tensorboard!=2.1.0,>=1.15->torch-tb-profiler->-r ./requirements.txt (line 5)) (2.10.0)\r\n",
      "Requirement already satisfied: setuptools>=41.0.0 in /home/darkroom2/.pyenv/versions/3.10.4/envs/yolo/lib/python3.10/site-packages (from tensorboard!=2.1.0,>=1.15->torch-tb-profiler->-r ./requirements.txt (line 5)) (58.1.0)\r\n",
      "Requirement already satisfied: grpcio>=1.24.3 in /home/darkroom2/.pyenv/versions/3.10.4/envs/yolo/lib/python3.10/site-packages (from tensorboard!=2.1.0,>=1.15->torch-tb-profiler->-r ./requirements.txt (line 5)) (1.47.0)\r\n",
      "Requirement already satisfied: absl-py>=0.4 in /home/darkroom2/.pyenv/versions/3.10.4/envs/yolo/lib/python3.10/site-packages (from tensorboard!=2.1.0,>=1.15->torch-tb-profiler->-r ./requirements.txt (line 5)) (1.2.0)\r\n",
      "Requirement already satisfied: markdown>=2.6.8 in /home/darkroom2/.pyenv/versions/3.10.4/envs/yolo/lib/python3.10/site-packages (from tensorboard!=2.1.0,>=1.15->torch-tb-profiler->-r ./requirements.txt (line 5)) (3.4.1)\r\n",
      "Requirement already satisfied: tensorboard-plugin-wit>=1.6.0 in /home/darkroom2/.pyenv/versions/3.10.4/envs/yolo/lib/python3.10/site-packages (from tensorboard!=2.1.0,>=1.15->torch-tb-profiler->-r ./requirements.txt (line 5)) (1.8.1)\r\n",
      "Requirement already satisfied: google-auth-oauthlib<0.5,>=0.4.1 in /home/darkroom2/.pyenv/versions/3.10.4/envs/yolo/lib/python3.10/site-packages (from tensorboard!=2.1.0,>=1.15->torch-tb-profiler->-r ./requirements.txt (line 5)) (0.4.6)\r\n",
      "Requirement already satisfied: tensorboard-data-server<0.7.0,>=0.6.0 in /home/darkroom2/.pyenv/versions/3.10.4/envs/yolo/lib/python3.10/site-packages (from tensorboard!=2.1.0,>=1.15->torch-tb-profiler->-r ./requirements.txt (line 5)) (0.6.1)\r\n",
      "Requirement already satisfied: werkzeug>=1.0.1 in /home/darkroom2/.pyenv/versions/3.10.4/envs/yolo/lib/python3.10/site-packages (from tensorboard!=2.1.0,>=1.15->torch-tb-profiler->-r ./requirements.txt (line 5)) (2.2.2)\r\n",
      "Requirement already satisfied: wheel>=0.26 in /home/darkroom2/.pyenv/versions/3.10.4/envs/yolo/lib/python3.10/site-packages (from tensorboard!=2.1.0,>=1.15->torch-tb-profiler->-r ./requirements.txt (line 5)) (0.37.1)\r\n",
      "Requirement already satisfied: termcolor-whl==1.1.2 in /home/darkroom2/.pyenv/versions/3.10.4/envs/yolo/lib/python3.10/site-packages (from yaspin>=1.0.0->wandb<=0.12.10->-r ./requirements.txt (line 6)) (1.1.2)\r\n",
      "Requirement already satisfied: prompt-toolkit!=3.0.0,!=3.0.1,<3.1.0,>=2.0.0 in /home/darkroom2/.pyenv/versions/3.10.4/envs/yolo/lib/python3.10/site-packages (from ipython->jupyterlab->-r ./requirements.txt (line 4)) (3.0.30)\r\n",
      "Requirement already satisfied: jedi>=0.16 in /home/darkroom2/.pyenv/versions/3.10.4/envs/yolo/lib/python3.10/site-packages (from ipython->jupyterlab->-r ./requirements.txt (line 4)) (0.18.1)\r\n",
      "Requirement already satisfied: stack-data in /home/darkroom2/.pyenv/versions/3.10.4/envs/yolo/lib/python3.10/site-packages (from ipython->jupyterlab->-r ./requirements.txt (line 4)) (0.4.0)\r\n",
      "Requirement already satisfied: pickleshare in /home/darkroom2/.pyenv/versions/3.10.4/envs/yolo/lib/python3.10/site-packages (from ipython->jupyterlab->-r ./requirements.txt (line 4)) (0.7.5)\r\n",
      "Requirement already satisfied: matplotlib-inline in /home/darkroom2/.pyenv/versions/3.10.4/envs/yolo/lib/python3.10/site-packages (from ipython->jupyterlab->-r ./requirements.txt (line 4)) (0.1.5)\r\n",
      "Requirement already satisfied: backcall in /home/darkroom2/.pyenv/versions/3.10.4/envs/yolo/lib/python3.10/site-packages (from ipython->jupyterlab->-r ./requirements.txt (line 4)) (0.2.0)\r\n",
      "Requirement already satisfied: pygments>=2.4.0 in /home/darkroom2/.pyenv/versions/3.10.4/envs/yolo/lib/python3.10/site-packages (from ipython->jupyterlab->-r ./requirements.txt (line 4)) (2.13.0)\r\n",
      "Requirement already satisfied: decorator in /home/darkroom2/.pyenv/versions/3.10.4/envs/yolo/lib/python3.10/site-packages (from ipython->jupyterlab->-r ./requirements.txt (line 4)) (5.1.1)\r\n",
      "Requirement already satisfied: pexpect>4.3 in /home/darkroom2/.pyenv/versions/3.10.4/envs/yolo/lib/python3.10/site-packages (from ipython->jupyterlab->-r ./requirements.txt (line 4)) (4.8.0)\r\n",
      "Requirement already satisfied: notebook-shim>=0.1.0 in /home/darkroom2/.pyenv/versions/3.10.4/envs/yolo/lib/python3.10/site-packages (from nbclassic->jupyterlab->-r ./requirements.txt (line 4)) (0.1.0)\r\n",
      "Requirement already satisfied: sniffio>=1.1 in /home/darkroom2/.pyenv/versions/3.10.4/envs/yolo/lib/python3.10/site-packages (from anyio<4,>=3.1.0->jupyter-server~=1.16->jupyterlab->-r ./requirements.txt (line 4)) (1.2.0)\r\n",
      "Requirement already satisfied: smmap<6,>=3.0.1 in /home/darkroom2/.pyenv/versions/3.10.4/envs/yolo/lib/python3.10/site-packages (from gitdb<5,>=4.0.1->GitPython>=1.0.0->wandb<=0.12.10->-r ./requirements.txt (line 6)) (5.0.0)\r\n",
      "Requirement already satisfied: pyasn1-modules>=0.2.1 in /home/darkroom2/.pyenv/versions/3.10.4/envs/yolo/lib/python3.10/site-packages (from google-auth<3,>=1.6.3->tensorboard!=2.1.0,>=1.15->torch-tb-profiler->-r ./requirements.txt (line 5)) (0.2.8)\r\n",
      "Requirement already satisfied: cachetools<6.0,>=2.0.0 in /home/darkroom2/.pyenv/versions/3.10.4/envs/yolo/lib/python3.10/site-packages (from google-auth<3,>=1.6.3->tensorboard!=2.1.0,>=1.15->torch-tb-profiler->-r ./requirements.txt (line 5)) (5.2.0)\r\n",
      "Requirement already satisfied: rsa<5,>=3.1.4 in /home/darkroom2/.pyenv/versions/3.10.4/envs/yolo/lib/python3.10/site-packages (from google-auth<3,>=1.6.3->tensorboard!=2.1.0,>=1.15->torch-tb-profiler->-r ./requirements.txt (line 5)) (4.9)\r\n",
      "Requirement already satisfied: requests-oauthlib>=0.7.0 in /home/darkroom2/.pyenv/versions/3.10.4/envs/yolo/lib/python3.10/site-packages (from google-auth-oauthlib<0.5,>=0.4.1->tensorboard!=2.1.0,>=1.15->torch-tb-profiler->-r ./requirements.txt (line 5)) (1.3.1)\r\n",
      "Requirement already satisfied: parso<0.9.0,>=0.8.0 in /home/darkroom2/.pyenv/versions/3.10.4/envs/yolo/lib/python3.10/site-packages (from jedi>=0.16->ipython->jupyterlab->-r ./requirements.txt (line 4)) (0.8.3)\r\n",
      "Requirement already satisfied: entrypoints in /home/darkroom2/.pyenv/versions/3.10.4/envs/yolo/lib/python3.10/site-packages (from jupyter-client>=6.1.12->jupyter-server~=1.16->jupyterlab->-r ./requirements.txt (line 4)) (0.4)\r\n",
      "Requirement already satisfied: jupyterlab-pygments in /home/darkroom2/.pyenv/versions/3.10.4/envs/yolo/lib/python3.10/site-packages (from nbconvert>=6.4.4->jupyter-server~=1.16->jupyterlab->-r ./requirements.txt (line 4)) (0.2.2)\r\n",
      "Requirement already satisfied: mistune<2,>=0.8.1 in /home/darkroom2/.pyenv/versions/3.10.4/envs/yolo/lib/python3.10/site-packages (from nbconvert>=6.4.4->jupyter-server~=1.16->jupyterlab->-r ./requirements.txt (line 4)) (0.8.4)\r\n",
      "Requirement already satisfied: tinycss2 in /home/darkroom2/.pyenv/versions/3.10.4/envs/yolo/lib/python3.10/site-packages (from nbconvert>=6.4.4->jupyter-server~=1.16->jupyterlab->-r ./requirements.txt (line 4)) (1.1.1)\r\n",
      "Requirement already satisfied: lxml in /home/darkroom2/.pyenv/versions/3.10.4/envs/yolo/lib/python3.10/site-packages (from nbconvert>=6.4.4->jupyter-server~=1.16->jupyterlab->-r ./requirements.txt (line 4)) (4.9.1)\r\n",
      "Requirement already satisfied: defusedxml in /home/darkroom2/.pyenv/versions/3.10.4/envs/yolo/lib/python3.10/site-packages (from nbconvert>=6.4.4->jupyter-server~=1.16->jupyterlab->-r ./requirements.txt (line 4)) (0.7.1)\r\n",
      "Requirement already satisfied: nbclient>=0.5.0 in /home/darkroom2/.pyenv/versions/3.10.4/envs/yolo/lib/python3.10/site-packages (from nbconvert>=6.4.4->jupyter-server~=1.16->jupyterlab->-r ./requirements.txt (line 4)) (0.6.6)\r\n",
      "Requirement already satisfied: bleach in /home/darkroom2/.pyenv/versions/3.10.4/envs/yolo/lib/python3.10/site-packages (from nbconvert>=6.4.4->jupyter-server~=1.16->jupyterlab->-r ./requirements.txt (line 4)) (5.0.1)\r\n",
      "Requirement already satisfied: beautifulsoup4 in /home/darkroom2/.pyenv/versions/3.10.4/envs/yolo/lib/python3.10/site-packages (from nbconvert>=6.4.4->jupyter-server~=1.16->jupyterlab->-r ./requirements.txt (line 4)) (4.11.1)\r\n",
      "Requirement already satisfied: pandocfilters>=1.4.1 in /home/darkroom2/.pyenv/versions/3.10.4/envs/yolo/lib/python3.10/site-packages (from nbconvert>=6.4.4->jupyter-server~=1.16->jupyterlab->-r ./requirements.txt (line 4)) (1.5.0)\r\n",
      "Requirement already satisfied: fastjsonschema in /home/darkroom2/.pyenv/versions/3.10.4/envs/yolo/lib/python3.10/site-packages (from nbformat>=5.2.0->jupyter-server~=1.16->jupyterlab->-r ./requirements.txt (line 4)) (2.16.1)\r\n",
      "Requirement already satisfied: ptyprocess>=0.5 in /home/darkroom2/.pyenv/versions/3.10.4/envs/yolo/lib/python3.10/site-packages (from pexpect>4.3->ipython->jupyterlab->-r ./requirements.txt (line 4)) (0.7.0)\r\n",
      "Requirement already satisfied: wcwidth in /home/darkroom2/.pyenv/versions/3.10.4/envs/yolo/lib/python3.10/site-packages (from prompt-toolkit!=3.0.0,!=3.0.1,<3.1.0,>=2.0.0->ipython->jupyterlab->-r ./requirements.txt (line 4)) (0.2.5)\r\n",
      "Requirement already satisfied: argon2-cffi-bindings in /home/darkroom2/.pyenv/versions/3.10.4/envs/yolo/lib/python3.10/site-packages (from argon2-cffi->jupyter-server~=1.16->jupyterlab->-r ./requirements.txt (line 4)) (21.2.0)\r\n",
      "Requirement already satisfied: debugpy>=1.0 in /home/darkroom2/.pyenv/versions/3.10.4/envs/yolo/lib/python3.10/site-packages (from ipykernel->notebook<7->jupyterlab->-r ./requirements.txt (line 4)) (1.6.3)\r\n",
      "Requirement already satisfied: executing in /home/darkroom2/.pyenv/versions/3.10.4/envs/yolo/lib/python3.10/site-packages (from stack-data->ipython->jupyterlab->-r ./requirements.txt (line 4)) (0.10.0)\r\n",
      "Requirement already satisfied: asttokens in /home/darkroom2/.pyenv/versions/3.10.4/envs/yolo/lib/python3.10/site-packages (from stack-data->ipython->jupyterlab->-r ./requirements.txt (line 4)) (2.0.8)\r\n",
      "Requirement already satisfied: pure-eval in /home/darkroom2/.pyenv/versions/3.10.4/envs/yolo/lib/python3.10/site-packages (from stack-data->ipython->jupyterlab->-r ./requirements.txt (line 4)) (0.2.2)\r\n",
      "Requirement already satisfied: pyasn1<0.5.0,>=0.4.6 in /home/darkroom2/.pyenv/versions/3.10.4/envs/yolo/lib/python3.10/site-packages (from pyasn1-modules>=0.2.1->google-auth<3,>=1.6.3->tensorboard!=2.1.0,>=1.15->torch-tb-profiler->-r ./requirements.txt (line 5)) (0.4.8)\r\n",
      "Requirement already satisfied: oauthlib>=3.0.0 in /home/darkroom2/.pyenv/versions/3.10.4/envs/yolo/lib/python3.10/site-packages (from requests-oauthlib>=0.7.0->google-auth-oauthlib<0.5,>=0.4.1->tensorboard!=2.1.0,>=1.15->torch-tb-profiler->-r ./requirements.txt (line 5)) (3.2.0)\r\n",
      "Requirement already satisfied: cffi>=1.0.1 in /home/darkroom2/.pyenv/versions/3.10.4/envs/yolo/lib/python3.10/site-packages (from argon2-cffi-bindings->argon2-cffi->jupyter-server~=1.16->jupyterlab->-r ./requirements.txt (line 4)) (1.15.1)\r\n",
      "Requirement already satisfied: soupsieve>1.2 in /home/darkroom2/.pyenv/versions/3.10.4/envs/yolo/lib/python3.10/site-packages (from beautifulsoup4->nbconvert>=6.4.4->jupyter-server~=1.16->jupyterlab->-r ./requirements.txt (line 4)) (2.3.2.post1)\r\n",
      "Requirement already satisfied: webencodings in /home/darkroom2/.pyenv/versions/3.10.4/envs/yolo/lib/python3.10/site-packages (from bleach->nbconvert>=6.4.4->jupyter-server~=1.16->jupyterlab->-r ./requirements.txt (line 4)) (0.5.1)\r\n",
      "Requirement already satisfied: pycparser in /home/darkroom2/.pyenv/versions/3.10.4/envs/yolo/lib/python3.10/site-packages (from cffi>=1.0.1->argon2-cffi-bindings->argon2-cffi->jupyter-server~=1.16->jupyterlab->-r ./requirements.txt (line 4)) (2.21)\r\n",
      "Installing collected packages: split-folders\r\n",
      "Successfully installed split-folders-0.5.1\r\n",
      "Note: you may need to restart the kernel to use updated packages.\n"
     ]
    }
   ],
   "source": [
    "%pip install -r ./requirements.txt"
   ]
  },
  {
   "cell_type": "code",
   "execution_count": 21,
   "metadata": {
    "pycharm": {
     "name": "#%%\n"
    }
   },
   "outputs": [
    {
     "name": "stdout",
     "output_type": "stream",
     "text": [
      "Requirement already satisfied: matplotlib>=3.2.2 in /home/darkroom2/.pyenv/versions/3.10.4/envs/yolo/lib/python3.10/site-packages (from -r ./yolov5/requirements.txt (line 5)) (3.5.3)\r\n",
      "Requirement already satisfied: numpy>=1.18.5 in /home/darkroom2/.pyenv/versions/3.10.4/envs/yolo/lib/python3.10/site-packages (from -r ./yolov5/requirements.txt (line 6)) (1.23.2)\r\n",
      "Requirement already satisfied: opencv-python>=4.1.1 in /home/darkroom2/.pyenv/versions/3.10.4/envs/yolo/lib/python3.10/site-packages (from -r ./yolov5/requirements.txt (line 7)) (4.6.0.66)\r\n",
      "Requirement already satisfied: Pillow>=7.1.2 in /home/darkroom2/.pyenv/versions/3.10.4/envs/yolo/lib/python3.10/site-packages (from -r ./yolov5/requirements.txt (line 8)) (9.2.0)\r\n",
      "Requirement already satisfied: PyYAML>=5.3.1 in /home/darkroom2/.pyenv/versions/3.10.4/envs/yolo/lib/python3.10/site-packages (from -r ./yolov5/requirements.txt (line 9)) (6.0)\r\n",
      "Requirement already satisfied: requests>=2.23.0 in /home/darkroom2/.pyenv/versions/3.10.4/envs/yolo/lib/python3.10/site-packages (from -r ./yolov5/requirements.txt (line 10)) (2.28.1)\r\n",
      "Requirement already satisfied: scipy>=1.4.1 in /home/darkroom2/.pyenv/versions/3.10.4/envs/yolo/lib/python3.10/site-packages (from -r ./yolov5/requirements.txt (line 11)) (1.9.0)\r\n",
      "Requirement already satisfied: torch>=1.7.0 in /home/darkroom2/.pyenv/versions/3.10.4/envs/yolo/lib/python3.10/site-packages (from -r ./yolov5/requirements.txt (line 12)) (1.12.1+cpu)\r\n",
      "Requirement already satisfied: torchvision>=0.8.1 in /home/darkroom2/.pyenv/versions/3.10.4/envs/yolo/lib/python3.10/site-packages (from -r ./yolov5/requirements.txt (line 13)) (0.13.1+cpu)\r\n",
      "Requirement already satisfied: tqdm>=4.64.0 in /home/darkroom2/.pyenv/versions/3.10.4/envs/yolo/lib/python3.10/site-packages (from -r ./yolov5/requirements.txt (line 14)) (4.64.0)\r\n",
      "Requirement already satisfied: protobuf<=3.20.1 in /home/darkroom2/.pyenv/versions/3.10.4/envs/yolo/lib/python3.10/site-packages (from -r ./yolov5/requirements.txt (line 15)) (3.19.4)\r\n",
      "Requirement already satisfied: tensorboard>=2.4.1 in /home/darkroom2/.pyenv/versions/3.10.4/envs/yolo/lib/python3.10/site-packages (from -r ./yolov5/requirements.txt (line 18)) (2.10.0)\r\n",
      "Requirement already satisfied: pandas>=1.1.4 in /home/darkroom2/.pyenv/versions/3.10.4/envs/yolo/lib/python3.10/site-packages (from -r ./yolov5/requirements.txt (line 23)) (1.4.3)\r\n",
      "Requirement already satisfied: seaborn>=0.11.0 in /home/darkroom2/.pyenv/versions/3.10.4/envs/yolo/lib/python3.10/site-packages (from -r ./yolov5/requirements.txt (line 24)) (0.11.2)\r\n",
      "Requirement already satisfied: ipython in /home/darkroom2/.pyenv/versions/3.10.4/envs/yolo/lib/python3.10/site-packages (from -r ./yolov5/requirements.txt (line 38)) (8.4.0)\r\n",
      "Requirement already satisfied: psutil in /home/darkroom2/.pyenv/versions/3.10.4/envs/yolo/lib/python3.10/site-packages (from -r ./yolov5/requirements.txt (line 39)) (5.9.1)\r\n",
      "Requirement already satisfied: thop>=0.1.1 in /home/darkroom2/.pyenv/versions/3.10.4/envs/yolo/lib/python3.10/site-packages (from -r ./yolov5/requirements.txt (line 40)) (0.1.1.post2207130030)\r\n",
      "Requirement already satisfied: cycler>=0.10 in /home/darkroom2/.pyenv/versions/3.10.4/envs/yolo/lib/python3.10/site-packages (from matplotlib>=3.2.2->-r ./yolov5/requirements.txt (line 5)) (0.11.0)\r\n",
      "Requirement already satisfied: pyparsing>=2.2.1 in /home/darkroom2/.pyenv/versions/3.10.4/envs/yolo/lib/python3.10/site-packages (from matplotlib>=3.2.2->-r ./yolov5/requirements.txt (line 5)) (3.0.9)\r\n",
      "Requirement already satisfied: python-dateutil>=2.7 in /home/darkroom2/.pyenv/versions/3.10.4/envs/yolo/lib/python3.10/site-packages (from matplotlib>=3.2.2->-r ./yolov5/requirements.txt (line 5)) (2.8.2)\r\n",
      "Requirement already satisfied: kiwisolver>=1.0.1 in /home/darkroom2/.pyenv/versions/3.10.4/envs/yolo/lib/python3.10/site-packages (from matplotlib>=3.2.2->-r ./yolov5/requirements.txt (line 5)) (1.4.4)\r\n",
      "Requirement already satisfied: packaging>=20.0 in /home/darkroom2/.pyenv/versions/3.10.4/envs/yolo/lib/python3.10/site-packages (from matplotlib>=3.2.2->-r ./yolov5/requirements.txt (line 5)) (21.3)\r\n",
      "Requirement already satisfied: fonttools>=4.22.0 in /home/darkroom2/.pyenv/versions/3.10.4/envs/yolo/lib/python3.10/site-packages (from matplotlib>=3.2.2->-r ./yolov5/requirements.txt (line 5)) (4.36.0)\r\n",
      "Requirement already satisfied: urllib3<1.27,>=1.21.1 in /home/darkroom2/.pyenv/versions/3.10.4/envs/yolo/lib/python3.10/site-packages (from requests>=2.23.0->-r ./yolov5/requirements.txt (line 10)) (1.26.11)\r\n",
      "Requirement already satisfied: certifi>=2017.4.17 in /home/darkroom2/.pyenv/versions/3.10.4/envs/yolo/lib/python3.10/site-packages (from requests>=2.23.0->-r ./yolov5/requirements.txt (line 10)) (2022.6.15)\r\n",
      "Requirement already satisfied: charset-normalizer<3,>=2 in /home/darkroom2/.pyenv/versions/3.10.4/envs/yolo/lib/python3.10/site-packages (from requests>=2.23.0->-r ./yolov5/requirements.txt (line 10)) (2.1.0)\r\n",
      "Requirement already satisfied: idna<4,>=2.5 in /home/darkroom2/.pyenv/versions/3.10.4/envs/yolo/lib/python3.10/site-packages (from requests>=2.23.0->-r ./yolov5/requirements.txt (line 10)) (3.3)\r\n",
      "Requirement already satisfied: typing-extensions in /home/darkroom2/.pyenv/versions/3.10.4/envs/yolo/lib/python3.10/site-packages (from torch>=1.7.0->-r ./yolov5/requirements.txt (line 12)) (4.3.0)\r\n",
      "Requirement already satisfied: google-auth<3,>=1.6.3 in /home/darkroom2/.pyenv/versions/3.10.4/envs/yolo/lib/python3.10/site-packages (from tensorboard>=2.4.1->-r ./yolov5/requirements.txt (line 18)) (2.10.0)\r\n",
      "Requirement already satisfied: werkzeug>=1.0.1 in /home/darkroom2/.pyenv/versions/3.10.4/envs/yolo/lib/python3.10/site-packages (from tensorboard>=2.4.1->-r ./yolov5/requirements.txt (line 18)) (2.2.2)\r\n",
      "Requirement already satisfied: markdown>=2.6.8 in /home/darkroom2/.pyenv/versions/3.10.4/envs/yolo/lib/python3.10/site-packages (from tensorboard>=2.4.1->-r ./yolov5/requirements.txt (line 18)) (3.4.1)\r\n",
      "Requirement already satisfied: grpcio>=1.24.3 in /home/darkroom2/.pyenv/versions/3.10.4/envs/yolo/lib/python3.10/site-packages (from tensorboard>=2.4.1->-r ./yolov5/requirements.txt (line 18)) (1.47.0)\r\n",
      "Requirement already satisfied: tensorboard-plugin-wit>=1.6.0 in /home/darkroom2/.pyenv/versions/3.10.4/envs/yolo/lib/python3.10/site-packages (from tensorboard>=2.4.1->-r ./yolov5/requirements.txt (line 18)) (1.8.1)\r\n",
      "Requirement already satisfied: absl-py>=0.4 in /home/darkroom2/.pyenv/versions/3.10.4/envs/yolo/lib/python3.10/site-packages (from tensorboard>=2.4.1->-r ./yolov5/requirements.txt (line 18)) (1.2.0)\r\n",
      "Requirement already satisfied: setuptools>=41.0.0 in /home/darkroom2/.pyenv/versions/3.10.4/envs/yolo/lib/python3.10/site-packages (from tensorboard>=2.4.1->-r ./yolov5/requirements.txt (line 18)) (58.1.0)\r\n",
      "Requirement already satisfied: wheel>=0.26 in /home/darkroom2/.pyenv/versions/3.10.4/envs/yolo/lib/python3.10/site-packages (from tensorboard>=2.4.1->-r ./yolov5/requirements.txt (line 18)) (0.37.1)\r\n",
      "Requirement already satisfied: tensorboard-data-server<0.7.0,>=0.6.0 in /home/darkroom2/.pyenv/versions/3.10.4/envs/yolo/lib/python3.10/site-packages (from tensorboard>=2.4.1->-r ./yolov5/requirements.txt (line 18)) (0.6.1)\r\n",
      "Requirement already satisfied: google-auth-oauthlib<0.5,>=0.4.1 in /home/darkroom2/.pyenv/versions/3.10.4/envs/yolo/lib/python3.10/site-packages (from tensorboard>=2.4.1->-r ./yolov5/requirements.txt (line 18)) (0.4.6)\r\n",
      "Requirement already satisfied: pytz>=2020.1 in /home/darkroom2/.pyenv/versions/3.10.4/envs/yolo/lib/python3.10/site-packages (from pandas>=1.1.4->-r ./yolov5/requirements.txt (line 23)) (2022.2.1)\r\n",
      "Requirement already satisfied: stack-data in /home/darkroom2/.pyenv/versions/3.10.4/envs/yolo/lib/python3.10/site-packages (from ipython->-r ./yolov5/requirements.txt (line 38)) (0.4.0)\r\n",
      "Requirement already satisfied: jedi>=0.16 in /home/darkroom2/.pyenv/versions/3.10.4/envs/yolo/lib/python3.10/site-packages (from ipython->-r ./yolov5/requirements.txt (line 38)) (0.18.1)\r\n",
      "Requirement already satisfied: prompt-toolkit!=3.0.0,!=3.0.1,<3.1.0,>=2.0.0 in /home/darkroom2/.pyenv/versions/3.10.4/envs/yolo/lib/python3.10/site-packages (from ipython->-r ./yolov5/requirements.txt (line 38)) (3.0.30)\r\n",
      "Requirement already satisfied: pexpect>4.3 in /home/darkroom2/.pyenv/versions/3.10.4/envs/yolo/lib/python3.10/site-packages (from ipython->-r ./yolov5/requirements.txt (line 38)) (4.8.0)\r\n",
      "Requirement already satisfied: pygments>=2.4.0 in /home/darkroom2/.pyenv/versions/3.10.4/envs/yolo/lib/python3.10/site-packages (from ipython->-r ./yolov5/requirements.txt (line 38)) (2.13.0)\r\n",
      "Requirement already satisfied: traitlets>=5 in /home/darkroom2/.pyenv/versions/3.10.4/envs/yolo/lib/python3.10/site-packages (from ipython->-r ./yolov5/requirements.txt (line 38)) (5.3.0)\r\n",
      "Requirement already satisfied: matplotlib-inline in /home/darkroom2/.pyenv/versions/3.10.4/envs/yolo/lib/python3.10/site-packages (from ipython->-r ./yolov5/requirements.txt (line 38)) (0.1.5)\r\n",
      "Requirement already satisfied: decorator in /home/darkroom2/.pyenv/versions/3.10.4/envs/yolo/lib/python3.10/site-packages (from ipython->-r ./yolov5/requirements.txt (line 38)) (5.1.1)\r\n",
      "Requirement already satisfied: pickleshare in /home/darkroom2/.pyenv/versions/3.10.4/envs/yolo/lib/python3.10/site-packages (from ipython->-r ./yolov5/requirements.txt (line 38)) (0.7.5)\r\n",
      "Requirement already satisfied: backcall in /home/darkroom2/.pyenv/versions/3.10.4/envs/yolo/lib/python3.10/site-packages (from ipython->-r ./yolov5/requirements.txt (line 38)) (0.2.0)\r\n",
      "Requirement already satisfied: pyasn1-modules>=0.2.1 in /home/darkroom2/.pyenv/versions/3.10.4/envs/yolo/lib/python3.10/site-packages (from google-auth<3,>=1.6.3->tensorboard>=2.4.1->-r ./yolov5/requirements.txt (line 18)) (0.2.8)\r\n",
      "Requirement already satisfied: cachetools<6.0,>=2.0.0 in /home/darkroom2/.pyenv/versions/3.10.4/envs/yolo/lib/python3.10/site-packages (from google-auth<3,>=1.6.3->tensorboard>=2.4.1->-r ./yolov5/requirements.txt (line 18)) (5.2.0)\r\n",
      "Requirement already satisfied: rsa<5,>=3.1.4 in /home/darkroom2/.pyenv/versions/3.10.4/envs/yolo/lib/python3.10/site-packages (from google-auth<3,>=1.6.3->tensorboard>=2.4.1->-r ./yolov5/requirements.txt (line 18)) (4.9)\r\n",
      "Requirement already satisfied: six>=1.9.0 in /home/darkroom2/.pyenv/versions/3.10.4/envs/yolo/lib/python3.10/site-packages (from google-auth<3,>=1.6.3->tensorboard>=2.4.1->-r ./yolov5/requirements.txt (line 18)) (1.16.0)\r\n",
      "Requirement already satisfied: requests-oauthlib>=0.7.0 in /home/darkroom2/.pyenv/versions/3.10.4/envs/yolo/lib/python3.10/site-packages (from google-auth-oauthlib<0.5,>=0.4.1->tensorboard>=2.4.1->-r ./yolov5/requirements.txt (line 18)) (1.3.1)\r\n",
      "Requirement already satisfied: parso<0.9.0,>=0.8.0 in /home/darkroom2/.pyenv/versions/3.10.4/envs/yolo/lib/python3.10/site-packages (from jedi>=0.16->ipython->-r ./yolov5/requirements.txt (line 38)) (0.8.3)\r\n",
      "Requirement already satisfied: ptyprocess>=0.5 in /home/darkroom2/.pyenv/versions/3.10.4/envs/yolo/lib/python3.10/site-packages (from pexpect>4.3->ipython->-r ./yolov5/requirements.txt (line 38)) (0.7.0)\r\n",
      "Requirement already satisfied: wcwidth in /home/darkroom2/.pyenv/versions/3.10.4/envs/yolo/lib/python3.10/site-packages (from prompt-toolkit!=3.0.0,!=3.0.1,<3.1.0,>=2.0.0->ipython->-r ./yolov5/requirements.txt (line 38)) (0.2.5)\r\n",
      "Requirement already satisfied: MarkupSafe>=2.1.1 in /home/darkroom2/.pyenv/versions/3.10.4/envs/yolo/lib/python3.10/site-packages (from werkzeug>=1.0.1->tensorboard>=2.4.1->-r ./yolov5/requirements.txt (line 18)) (2.1.1)\r\n",
      "Requirement already satisfied: asttokens in /home/darkroom2/.pyenv/versions/3.10.4/envs/yolo/lib/python3.10/site-packages (from stack-data->ipython->-r ./yolov5/requirements.txt (line 38)) (2.0.8)\r\n",
      "Requirement already satisfied: pure-eval in /home/darkroom2/.pyenv/versions/3.10.4/envs/yolo/lib/python3.10/site-packages (from stack-data->ipython->-r ./yolov5/requirements.txt (line 38)) (0.2.2)\r\n",
      "Requirement already satisfied: executing in /home/darkroom2/.pyenv/versions/3.10.4/envs/yolo/lib/python3.10/site-packages (from stack-data->ipython->-r ./yolov5/requirements.txt (line 38)) (0.10.0)\r\n",
      "Requirement already satisfied: pyasn1<0.5.0,>=0.4.6 in /home/darkroom2/.pyenv/versions/3.10.4/envs/yolo/lib/python3.10/site-packages (from pyasn1-modules>=0.2.1->google-auth<3,>=1.6.3->tensorboard>=2.4.1->-r ./yolov5/requirements.txt (line 18)) (0.4.8)\r\n",
      "Requirement already satisfied: oauthlib>=3.0.0 in /home/darkroom2/.pyenv/versions/3.10.4/envs/yolo/lib/python3.10/site-packages (from requests-oauthlib>=0.7.0->google-auth-oauthlib<0.5,>=0.4.1->tensorboard>=2.4.1->-r ./yolov5/requirements.txt (line 18)) (3.2.0)\r\n",
      "Note: you may need to restart the kernel to use updated packages.\n"
     ]
    }
   ],
   "source": [
    "%pip install -r ./yolov5/requirements.txt"
   ]
  },
  {
   "cell_type": "code",
   "execution_count": null,
   "metadata": {
    "pycharm": {
     "name": "#%%\n"
    }
   },
   "outputs": [],
   "source": [
    "!python yolov5 / train.py --img 640 --batch 16 --epochs 2 --data yolov5 / data / coco128.yaml --weights pretrained_models / yolov5n.pt --cache ram --device cpu --project./ trained_models --name xd"
   ]
  },
  {
   "cell_type": "code",
   "execution_count": 22,
   "metadata": {
    "pycharm": {
     "name": "#%%\n"
    }
   },
   "outputs": [],
   "source": [
    "import pandas as pd"
   ]
  },
  {
   "cell_type": "code",
   "execution_count": 23,
   "metadata": {
    "pycharm": {
     "name": "#%%\n"
    }
   },
   "outputs": [],
   "source": [
    "df = pd.read_csv('datasets/test_db/annotations.csv')"
   ]
  },
  {
   "cell_type": "code",
   "execution_count": 24,
   "metadata": {
    "pycharm": {
     "name": "#%%\n"
    }
   },
   "outputs": [
    {
     "data": {
      "text/plain": "    filename  width  height         label  xmin  ymin  xmax  ymax\n0      0.jpg    416     416  black-bishop   280   227   310   284\n1      0.jpg    416     416    black-king   311   110   345   195\n2      0.jpg    416     416   black-queen   237    85   262   159\n3      0.jpg    416     416    black-rook   331   277   366   333\n4      0.jpg    416     416    black-rook   235     3   255    51\n..       ...    ...     ...           ...   ...   ...   ...   ...\n104    6.jpg    416     416    black-rook   335   297   368   355\n105    6.jpg    416     416   black-queen   234    97   260   173\n106    6.jpg    416     416    black-pawn   273    84   291   128\n107    6.jpg    416     416    black-pawn   204   118   223   162\n108    6.jpg    416     416    black-pawn   248   204   270   251\n\n[109 rows x 8 columns]",
      "text/html": "<div>\n<style scoped>\n    .dataframe tbody tr th:only-of-type {\n        vertical-align: middle;\n    }\n\n    .dataframe tbody tr th {\n        vertical-align: top;\n    }\n\n    .dataframe thead th {\n        text-align: right;\n    }\n</style>\n<table border=\"1\" class=\"dataframe\">\n  <thead>\n    <tr style=\"text-align: right;\">\n      <th></th>\n      <th>filename</th>\n      <th>width</th>\n      <th>height</th>\n      <th>label</th>\n      <th>xmin</th>\n      <th>ymin</th>\n      <th>xmax</th>\n      <th>ymax</th>\n    </tr>\n  </thead>\n  <tbody>\n    <tr>\n      <th>0</th>\n      <td>0.jpg</td>\n      <td>416</td>\n      <td>416</td>\n      <td>black-bishop</td>\n      <td>280</td>\n      <td>227</td>\n      <td>310</td>\n      <td>284</td>\n    </tr>\n    <tr>\n      <th>1</th>\n      <td>0.jpg</td>\n      <td>416</td>\n      <td>416</td>\n      <td>black-king</td>\n      <td>311</td>\n      <td>110</td>\n      <td>345</td>\n      <td>195</td>\n    </tr>\n    <tr>\n      <th>2</th>\n      <td>0.jpg</td>\n      <td>416</td>\n      <td>416</td>\n      <td>black-queen</td>\n      <td>237</td>\n      <td>85</td>\n      <td>262</td>\n      <td>159</td>\n    </tr>\n    <tr>\n      <th>3</th>\n      <td>0.jpg</td>\n      <td>416</td>\n      <td>416</td>\n      <td>black-rook</td>\n      <td>331</td>\n      <td>277</td>\n      <td>366</td>\n      <td>333</td>\n    </tr>\n    <tr>\n      <th>4</th>\n      <td>0.jpg</td>\n      <td>416</td>\n      <td>416</td>\n      <td>black-rook</td>\n      <td>235</td>\n      <td>3</td>\n      <td>255</td>\n      <td>51</td>\n    </tr>\n    <tr>\n      <th>...</th>\n      <td>...</td>\n      <td>...</td>\n      <td>...</td>\n      <td>...</td>\n      <td>...</td>\n      <td>...</td>\n      <td>...</td>\n      <td>...</td>\n    </tr>\n    <tr>\n      <th>104</th>\n      <td>6.jpg</td>\n      <td>416</td>\n      <td>416</td>\n      <td>black-rook</td>\n      <td>335</td>\n      <td>297</td>\n      <td>368</td>\n      <td>355</td>\n    </tr>\n    <tr>\n      <th>105</th>\n      <td>6.jpg</td>\n      <td>416</td>\n      <td>416</td>\n      <td>black-queen</td>\n      <td>234</td>\n      <td>97</td>\n      <td>260</td>\n      <td>173</td>\n    </tr>\n    <tr>\n      <th>106</th>\n      <td>6.jpg</td>\n      <td>416</td>\n      <td>416</td>\n      <td>black-pawn</td>\n      <td>273</td>\n      <td>84</td>\n      <td>291</td>\n      <td>128</td>\n    </tr>\n    <tr>\n      <th>107</th>\n      <td>6.jpg</td>\n      <td>416</td>\n      <td>416</td>\n      <td>black-pawn</td>\n      <td>204</td>\n      <td>118</td>\n      <td>223</td>\n      <td>162</td>\n    </tr>\n    <tr>\n      <th>108</th>\n      <td>6.jpg</td>\n      <td>416</td>\n      <td>416</td>\n      <td>black-pawn</td>\n      <td>248</td>\n      <td>204</td>\n      <td>270</td>\n      <td>251</td>\n    </tr>\n  </tbody>\n</table>\n<p>109 rows × 8 columns</p>\n</div>"
     },
     "execution_count": 24,
     "metadata": {},
     "output_type": "execute_result"
    }
   ],
   "source": [
    "df"
   ]
  },
  {
   "cell_type": "code",
   "execution_count": 49,
   "metadata": {
    "pycharm": {
     "name": "#%%\n"
    }
   },
   "outputs": [],
   "source": [
    "grouped_df = df.groupby(['filename']).agg({\n",
    "    'xmin': list,\n",
    "    'ymin': list,\n",
    "    'xmax': list,\n",
    "    'ymax': list,\n",
    "    'label': list\n",
    "})"
   ]
  },
  {
   "cell_type": "code",
   "execution_count": 50,
   "metadata": {
    "pycharm": {
     "name": "#%%\n"
    }
   },
   "outputs": [
    {
     "data": {
      "text/plain": "                                                       xmin  \\\nfilename                                                      \n0.jpg     [280, 311, 237, 331, 235, 267, 271, 280, 283, ...   \n1.jpg     [298, 207, 284, 306, 339, 291, 325, 275, 240, ...   \n2.jpg          [243, 333, 234, 271, 202, 129, 101, 167, 91]   \n3.jpg                                                 [208]   \n4.jpg     [302, 292, 320, 251, 236, 203, 204, 297, 274, ...   \n5.jpg                                                 [174]   \n6.jpg     [170, 131, 167, 136, 101, 94, 257, 335, 234, 2...   \n\n                                                       ymin  \\\nfilename                                                      \n0.jpg     [227, 110, 85, 277, 3, 38, 72, 145, 188, 284, ...   \n1.jpg     [38, 109, 137, 85, 297, 10, 199, 121, 115, 18,...   \n2.jpg            [172, 296, 93, 83, 118, 128, 15, 118, 254]   \n3.jpg                                                  [88]   \n4.jpg     [81, 10, 194, 241, 110, 139, 87, 301, 119, 202...   \n5.jpg                                                 [153]   \n6.jpg     [79, 129, 119, 52, 15, 256, 268, 297, 97, 84, ...   \n\n                                                       xmax  \\\nfilename                                                      \n0.jpg     [310, 345, 262, 366, 255, 286, 291, 303, 305, ...   \n1.jpg     [318, 227, 305, 336, 369, 313, 354, 293, 264, ...   \n2.jpg         [277, 367, 259, 291, 223, 161, 124, 189, 120]   \n3.jpg                                                 [226]   \n4.jpg     [336, 316, 350, 279, 260, 230, 223, 321, 295, ...   \n5.jpg                                                 [196]   \n6.jpg     [195, 162, 189, 158, 123, 118, 291, 368, 260, ...   \n\n                                                       ymax  \\\nfilename                                                      \n0.jpg     [284, 195, 159, 333, 51, 82, 116, 190, 233, 33...   \n1.jpg     [93, 163, 206, 163, 355, 59, 255, 164, 172, 59...   \n2.jpg          [256, 355, 174, 127, 165, 213, 60, 164, 303]   \n3.jpg                                                 [128]   \n4.jpg     [167, 61, 249, 306, 169, 214, 133, 351, 166, 2...   \n5.jpg                                                 [210]   \n6.jpg     [132, 213, 165, 97, 59, 304, 354, 355, 173, 12...   \n\n                                                      label  \nfilename                                                     \n0.jpg     [black-bishop, black-king, black-queen, black-...  \n1.jpg     [black-bishop, black-bishop, black-queen, blac...  \n2.jpg     [black-king, black-rook, black-queen, black-pa...  \n3.jpg                                          [black-pawn]  \n4.jpg     [black-king, black-rook, black-rook, black-bis...  \n5.jpg                                        [black-bishop]  \n6.jpg     [white-rook, white-king, white-pawn, white-paw...  ",
      "text/html": "<div>\n<style scoped>\n    .dataframe tbody tr th:only-of-type {\n        vertical-align: middle;\n    }\n\n    .dataframe tbody tr th {\n        vertical-align: top;\n    }\n\n    .dataframe thead th {\n        text-align: right;\n    }\n</style>\n<table border=\"1\" class=\"dataframe\">\n  <thead>\n    <tr style=\"text-align: right;\">\n      <th></th>\n      <th>xmin</th>\n      <th>ymin</th>\n      <th>xmax</th>\n      <th>ymax</th>\n      <th>label</th>\n    </tr>\n    <tr>\n      <th>filename</th>\n      <th></th>\n      <th></th>\n      <th></th>\n      <th></th>\n      <th></th>\n    </tr>\n  </thead>\n  <tbody>\n    <tr>\n      <th>0.jpg</th>\n      <td>[280, 311, 237, 331, 235, 267, 271, 280, 283, ...</td>\n      <td>[227, 110, 85, 277, 3, 38, 72, 145, 188, 284, ...</td>\n      <td>[310, 345, 262, 366, 255, 286, 291, 303, 305, ...</td>\n      <td>[284, 195, 159, 333, 51, 82, 116, 190, 233, 33...</td>\n      <td>[black-bishop, black-king, black-queen, black-...</td>\n    </tr>\n    <tr>\n      <th>1.jpg</th>\n      <td>[298, 207, 284, 306, 339, 291, 325, 275, 240, ...</td>\n      <td>[38, 109, 137, 85, 297, 10, 199, 121, 115, 18,...</td>\n      <td>[318, 227, 305, 336, 369, 313, 354, 293, 264, ...</td>\n      <td>[93, 163, 206, 163, 355, 59, 255, 164, 172, 59...</td>\n      <td>[black-bishop, black-bishop, black-queen, blac...</td>\n    </tr>\n    <tr>\n      <th>2.jpg</th>\n      <td>[243, 333, 234, 271, 202, 129, 101, 167, 91]</td>\n      <td>[172, 296, 93, 83, 118, 128, 15, 118, 254]</td>\n      <td>[277, 367, 259, 291, 223, 161, 124, 189, 120]</td>\n      <td>[256, 355, 174, 127, 165, 213, 60, 164, 303]</td>\n      <td>[black-king, black-rook, black-queen, black-pa...</td>\n    </tr>\n    <tr>\n      <th>3.jpg</th>\n      <td>[208]</td>\n      <td>[88]</td>\n      <td>[226]</td>\n      <td>[128]</td>\n      <td>[black-pawn]</td>\n    </tr>\n    <tr>\n      <th>4.jpg</th>\n      <td>[302, 292, 320, 251, 236, 203, 204, 297, 274, ...</td>\n      <td>[81, 10, 194, 241, 110, 139, 87, 301, 119, 202...</td>\n      <td>[336, 316, 350, 279, 260, 230, 223, 321, 295, ...</td>\n      <td>[167, 61, 249, 306, 169, 214, 133, 351, 166, 2...</td>\n      <td>[black-king, black-rook, black-rook, black-bis...</td>\n    </tr>\n    <tr>\n      <th>5.jpg</th>\n      <td>[174]</td>\n      <td>[153]</td>\n      <td>[196]</td>\n      <td>[210]</td>\n      <td>[black-bishop]</td>\n    </tr>\n    <tr>\n      <th>6.jpg</th>\n      <td>[170, 131, 167, 136, 101, 94, 257, 335, 234, 2...</td>\n      <td>[79, 129, 119, 52, 15, 256, 268, 297, 97, 84, ...</td>\n      <td>[195, 162, 189, 158, 123, 118, 291, 368, 260, ...</td>\n      <td>[132, 213, 165, 97, 59, 304, 354, 355, 173, 12...</td>\n      <td>[white-rook, white-king, white-pawn, white-paw...</td>\n    </tr>\n  </tbody>\n</table>\n</div>"
     },
     "execution_count": 50,
     "metadata": {},
     "output_type": "execute_result"
    }
   ],
   "source": [
    "grouped_df"
   ]
  },
  {
   "cell_type": "markdown",
   "source": [
    "SKRYPT KONWERTUJĄCY CSV NA YOLO\n",
    "\n",
    "Poniższe ścieżki należy uzupełnić. Dodatkowo plik `classes.names` należy utworzyć zgodnie ze schematem:\n",
    "```text\n",
    "class_name_0\n",
    "class_name_1\n",
    "class_name_2\n",
    "class_name_3\n",
    "class_name_4\n",
    "class_name_5\n",
    "```"
   ],
   "metadata": {
    "collapsed": false,
    "pycharm": {
     "name": "#%% md\n"
    }
   }
  },
  {
   "cell_type": "code",
   "execution_count": 51,
   "outputs": [],
   "source": [
    "# Sciezka do starych anotacji (labeli) w formacie csv\n",
    "csv_path = 'datasets/test_db/annotations.csv'\n",
    "# Sciezka do obrazow\n",
    "images_path = 'datasets/test_db/images'\n",
    "# Sciezka do pliku z nazwami klas (yolo wymaga ID klasy, a nie nazwy!)\n",
    "classes_names_path = 'datasets/test_db/classes.names'\n",
    "# Sciezka do zapisu datasetu w nowym formacie\n",
    "dataset_path = 'datasets/test_db_converted'"
   ],
   "metadata": {
    "collapsed": false,
    "pycharm": {
     "name": "#%%\n"
    }
   }
  },
  {
   "cell_type": "code",
   "execution_count": 53,
   "outputs": [],
   "source": [
    "from collections import defaultdict\n",
    "from pathlib import Path\n",
    "from shutil import copy\n",
    "\n",
    "from PIL import Image\n",
    "\n",
    "classes_names_file = Path(classes_names_path)\n",
    "classes_names_list = classes_names_file.read_text(encoding='utf8').split()\n",
    "class_name_id_map = {class_name: idx for idx, class_name in enumerate(classes_names_list)}\n",
    "\n",
    "images_old_dir = Path(images_path)\n",
    "dataset_dir = Path(dataset_path)\n",
    "images_new_dir = dataset_dir / 'images'\n",
    "images_new_dir.mkdir(exist_ok=True, parents=True)\n",
    "labels_dir = dataset_dir / 'labels'\n",
    "labels_dir.mkdir(exist_ok=True, parents=True)\n",
    "\n",
    "csv_file = Path(csv_path)\n",
    "csv_content = csv_file.read_text(encoding='utf8')\n",
    "csv_lines = csv_content.split()\n",
    "csv_rows = [line.split(',') for line in csv_lines]\n",
    "header_row = csv_rows[0]\n",
    "# Mapowanie nazw kolumn na index (kolejność) na liście z nagłówkiem\n",
    "col_idx = {col_name: idx for idx, col_name in enumerate(header_row)}\n",
    "data_rows = csv_rows[1:]\n",
    "\n",
    "file_bounds_map = defaultdict(list)\n",
    "\n",
    "for row in data_rows:\n",
    "    filename = str(row[col_idx['filename']])\n",
    "    class_name = row[col_idx['label']]\n",
    "    xmin = int(row[col_idx['xmin']])\n",
    "    ymin = int(row[col_idx['ymin']])\n",
    "    xmax = int(row[col_idx['xmax']])\n",
    "    ymax = int(row[col_idx['ymax']])\n",
    "\n",
    "    # Format yolo:\n",
    "    # class x_center y_center width height\n",
    "\n",
    "    image_file = images_old_dir / filename\n",
    "    img_w, img_h = Image.open(image_file).size\n",
    "\n",
    "    w = xmax - xmin\n",
    "    h = ymax - ymin\n",
    "    x_cnt = (xmin + xmax) / 2.0\n",
    "    y_cnt = (ymin + ymax) / 2.0\n",
    "\n",
    "    norm_bounds = [x_cnt / img_w, y_cnt / img_h, w / img_w, h / img_h]\n",
    "    bounds_str = ' '.join(f'{i:.6f}' for i in norm_bounds)\n",
    "\n",
    "    yolo_fmt_str = f'{class_name_id_map.get(class_name, 0)} {bounds_str}'\n",
    "    file_bounds_map[filename].append(yolo_fmt_str)\n",
    "\n",
    "for filename, bounds_list in file_bounds_map.items():\n",
    "    image_old_file = images_old_dir / filename\n",
    "    image_new_file = images_new_dir / filename\n",
    "    copy(image_old_file, image_new_file)\n",
    "\n",
    "    label_file_name = image_new_file.with_suffix('.txt').name\n",
    "    label_file = labels_dir.joinpath(label_file_name)\n",
    "    label_file_content = '\\n'.join(bounds_list)\n",
    "    label_file.write_text(label_file_content, encoding='utf8')"
   ],
   "metadata": {
    "collapsed": false,
    "pycharm": {
     "name": "#%%\n"
    }
   }
  },
  {
   "cell_type": "markdown",
   "source": [
    "Splitowanie folderów zawierających obrazki oraz labelki na foldery `train` / `val` / `test`."
   ],
   "metadata": {
    "collapsed": false,
    "pycharm": {
     "name": "#%% md\n"
    }
   }
  },
  {
   "cell_type": "code",
   "execution_count": 48,
   "outputs": [],
   "source": [
    "images_dir = 'datasets/test_db_converted/images'\n",
    "labels_dir = 'datasets/test_db_converted/labels'\n",
    "\n",
    "seed = 1337\n",
    "ratio = (.8, 0.1, 0.1)"
   ],
   "metadata": {
    "collapsed": false,
    "pycharm": {
     "name": "#%%\n"
    }
   }
  },
  {
   "cell_type": "code",
   "execution_count": 47,
   "outputs": [],
   "source": [
    "from shutil import move\n",
    "import random\n",
    "\n",
    "random.seed(seed)  # make sure its reproducible\n",
    "\n",
    "for directory_path in [images_dir, labels_dir]:\n",
    "    directory = Path(directory_path)\n",
    "    files = [f for f in directory.iterdir() if f.is_file() and not f.name.startswith(\".\")]\n",
    "    files.sort()\n",
    "    random.shuffle(files)\n",
    "\n",
    "    # the data was shuffled already\n",
    "    split_train_idx = int(round(ratio[0] * len(files)))\n",
    "    split_val_idx = split_train_idx + int(round(ratio[1] * len(files)))\n",
    "\n",
    "    use_test = len(ratio) == 3\n",
    "\n",
    "    files_train = files[:split_train_idx]\n",
    "    files_val = files[split_train_idx:split_val_idx] if use_test else files[split_train_idx:]\n",
    "\n",
    "    li = [(files_train, \"train\"), (files_val, \"val\")]\n",
    "\n",
    "    # optional test folder\n",
    "    if use_test:\n",
    "        files_test = files[split_val_idx:]\n",
    "        li.append((files_test, \"test\"))\n",
    "\n",
    "    for files, folder_type in li:\n",
    "        end_path = directory / folder_type\n",
    "        Path(end_path).mkdir(parents=True, exist_ok=True)\n",
    "        for f in files:\n",
    "            move(str(f), str(end_path))"
   ],
   "metadata": {
    "collapsed": false,
    "pycharm": {
     "name": "#%%\n"
    }
   }
  }
 ],
 "metadata": {
  "kernelspec": {
   "display_name": "Python 3.10.4 64-bit ('yolo')",
   "language": "python",
   "name": "python3"
  },
  "language_info": {
   "codemirror_mode": {
    "name": "ipython",
    "version": 3
   },
   "file_extension": ".py",
   "mimetype": "text/x-python",
   "name": "python",
   "nbconvert_exporter": "python",
   "pygments_lexer": "ipython3",
   "version": "3.10.4"
  },
  "orig_nbformat": 4,
  "vscode": {
   "interpreter": {
    "hash": "583f1c046f5aaf73ddcfb3ff7849f54a1027028301bd5029eaffadc8575af2b9"
   }
  }
 },
 "nbformat": 4,
 "nbformat_minor": 2
}