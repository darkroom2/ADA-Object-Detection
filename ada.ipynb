{
 "cells": [
  {
   "cell_type": "code",
   "execution_count": null,
   "outputs": [],
   "source": [
    "%pip --version"
   ],
   "metadata": {
    "collapsed": false,
    "pycharm": {
     "name": "#%%\n"
    }
   }
  },
  {
   "cell_type": "code",
   "execution_count": null,
   "outputs": [],
   "source": [
    "%pip install -r ./requirements.txt"
   ],
   "metadata": {
    "collapsed": false,
    "pycharm": {
     "name": "#%%\n"
    }
   }
  },
  {
   "cell_type": "code",
   "execution_count": null,
   "outputs": [],
   "source": [
    "%pip install -r ./yolov5/requirements.txt"
   ],
   "metadata": {
    "collapsed": false,
    "pycharm": {
     "name": "#%%\n"
    }
   }
  },
  {
   "cell_type": "code",
   "execution_count": null,
   "outputs": [],
   "source": [
    "!python yolov5/train.py --img 640 --batch 16 --epochs 30 --data config/my_data.yaml --weights pretrained_models/yolov5n.pt --cache ram --device 0 --project trained_models --name cars_yolov5n_s640_b16_e30_gpu"
   ],
   "metadata": {
    "collapsed": false,
    "pycharm": {
     "name": "#%%\n"
    }
   }
  },
  {
   "cell_type": "code",
   "execution_count": null,
   "outputs": [],
   "source": [
    "import pandas as pd"
   ],
   "metadata": {
    "collapsed": false,
    "pycharm": {
     "name": "#%%\n"
    }
   }
  },
  {
   "cell_type": "code",
   "execution_count": null,
   "outputs": [],
   "source": [
    "df = pd.read_csv('datasets/cars/annots.csv')"
   ],
   "metadata": {
    "collapsed": false,
    "pycharm": {
     "name": "#%%\n"
    }
   }
  },
  {
   "cell_type": "code",
   "execution_count": null,
   "outputs": [],
   "source": [
    "df"
   ],
   "metadata": {
    "collapsed": false,
    "pycharm": {
     "name": "#%%\n"
    }
   }
  },
  {
   "cell_type": "code",
   "execution_count": 1,
   "outputs": [
    {
     "name": "stdout",
     "output_type": "stream",
     "text": [
      "[[[[0.6572532  0.70482594 0.7263029  ... 0.326644   0.28501588\n",
      "    0.8413595 ]\n",
      "   [0.7854287  0.28594244 0.46733433 ... 0.12058216 0.05241877\n",
      "    0.94500804]\n",
      "   [0.89178175 0.00423378 0.7397486  ... 0.9612487  0.84900385\n",
      "    0.3521257 ]\n",
      "   ...\n",
      "   [0.5473209  0.5183219  0.44464397 ... 0.8330286  0.5884132\n",
      "    0.87803817]\n",
      "   [0.90145093 0.01764375 0.06275761 ... 0.10863328 0.24017787\n",
      "    0.41394138]\n",
      "   [0.73503166 0.35286248 0.70794857 ... 0.34303194 0.11552674\n",
      "    0.22115082]]]\n",
      "\n",
      "\n",
      " [[[0.85692227 0.8438705  0.33396447 ... 0.52632326 0.16659075\n",
      "    0.64024055]\n",
      "   [0.21657473 0.5467942  0.45014453 ... 0.5174344  0.2377758\n",
      "    0.43943667]\n",
      "   [0.78972816 0.13960117 0.37889767 ... 0.6572265  0.35805416\n",
      "    0.14245605]\n",
      "   ...\n",
      "   [0.5615749  0.5265852  0.99246895 ... 0.07655376 0.6319934\n",
      "    0.10621578]\n",
      "   [0.68255055 0.88951486 0.11953878 ... 0.32422715 0.36445755\n",
      "    0.205899  ]\n",
      "   [0.02791131 0.80538166 0.15718347 ... 0.37147206 0.7012571\n",
      "    0.77953374]]]\n",
      "\n",
      "\n",
      " [[[0.9914501  0.46555817 0.31600362 ... 0.39320624 0.48770887\n",
      "    0.0691191 ]\n",
      "   [0.07006186 0.72087866 0.61025935 ... 0.6192868  0.6191466\n",
      "    0.5126837 ]\n",
      "   [0.766546   0.8155168  0.96674335 ... 0.92014885 0.76395416\n",
      "    0.6937222 ]\n",
      "   ...\n",
      "   [0.46894056 0.36398822 0.92349166 ... 0.24337757 0.07462323\n",
      "    0.402623  ]\n",
      "   [0.40940517 0.71623737 0.6893669  ... 0.62948054 0.7359923\n",
      "    0.62579465]\n",
      "   [0.90959454 0.67464787 0.5359681  ... 0.02190053 0.3146317\n",
      "    0.5678613 ]]]\n",
      "\n",
      "\n",
      " ...\n",
      "\n",
      "\n",
      " [[[0.05423158 0.57171935 0.24199969 ... 0.27170146 0.28500962\n",
      "    0.43432683]\n",
      "   [0.6377203  0.00546628 0.00464362 ... 0.90174896 0.7945774\n",
      "    0.2306019 ]\n",
      "   [0.14943004 0.66486573 0.9946147  ... 0.9010409  0.952106\n",
      "    0.07978815]\n",
      "   ...\n",
      "   [0.24016547 0.5361183  0.20818323 ... 0.9709945  0.44198334\n",
      "    0.5773869 ]\n",
      "   [0.55030954 0.11647755 0.28805977 ... 0.9183568  0.14846998\n",
      "    0.80875164]\n",
      "   [0.26408774 0.2874239  0.09597164 ... 0.5389244  0.04464257\n",
      "    0.73406625]]]\n",
      "\n",
      "\n",
      " [[[0.79193646 0.6566637  0.5933044  ... 0.04669738 0.92781866\n",
      "    0.3547898 ]\n",
      "   [0.8391077  0.7452421  0.13619292 ... 0.7575382  0.50340354\n",
      "    0.73510337]\n",
      "   [0.49315143 0.0565961  0.31810743 ... 0.38921034 0.5374442\n",
      "    0.5626891 ]\n",
      "   ...\n",
      "   [0.02085918 0.5108414  0.03771716 ... 0.9008706  0.13757944\n",
      "    0.14185125]\n",
      "   [0.5971743  0.62606156 0.54044145 ... 0.7504745  0.66467285\n",
      "    0.06094652]\n",
      "   [0.8758135  0.603265   0.715453   ... 0.17005843 0.05030489\n",
      "    0.4401002 ]]]\n",
      "\n",
      "\n",
      " [[[0.4772392  0.2619462  0.8588538  ... 0.11297274 0.3218577\n",
      "    0.71885306]\n",
      "   [0.28689396 0.7867121  0.28684187 ... 0.2327655  0.1204794\n",
      "    0.32395077]\n",
      "   [0.51343507 0.6080869  0.7121994  ... 0.89849263 0.9734129\n",
      "    0.18550336]\n",
      "   ...\n",
      "   [0.8592602  0.32702267 0.5930309  ... 0.6950885  0.29379278\n",
      "    0.51081073]\n",
      "   [0.8700109  0.48453438 0.16813064 ... 0.52702963 0.73620033\n",
      "    0.36402386]\n",
      "   [0.4004326  0.93333644 0.08876568 ... 0.42170578 0.72571373\n",
      "    0.69725597]]]]\n"
     ]
    },
    {
     "name": "stderr",
     "output_type": "stream",
     "text": [
      "/home/darkroom2/.pyenv/versions/3.10.4/envs/yolo/lib/python3.10/site-packages/tqdm/auto.py:22: TqdmWarning: IProgress not found. Please update jupyter and ipywidgets. See https://ipywidgets.readthedocs.io/en/stable/user_install.html\n",
      "  from .autonotebook import tqdm as notebook_tqdm\n"
     ]
    }
   ],
   "source": [
    "import numpy\n",
    "import torch\n",
    "test_torch = torch.rand(100,1,28,28)\n",
    "print(test_torch.numpy())"
   ],
   "metadata": {
    "collapsed": false,
    "pycharm": {
     "name": "#%%\n"
    }
   }
  },
  {
   "cell_type": "code",
   "execution_count": null,
   "outputs": [],
   "source": [
    "grouped_df = df.groupby(['image']).agg({\n",
    "    'xmin': list,\n",
    "    'ymin': list,\n",
    "    'xmax': list,\n",
    "    'ymax': list\n",
    "})"
   ],
   "metadata": {
    "collapsed": false,
    "pycharm": {
     "name": "#%%\n"
    }
   }
  },
  {
   "cell_type": "code",
   "execution_count": null,
   "outputs": [],
   "source": [
    "grouped_df"
   ],
   "metadata": {
    "collapsed": false,
    "pycharm": {
     "name": "#%%\n"
    }
   }
  },
  {
   "cell_type": "markdown",
   "source": [
    "SKRYPT KONWERTUJĄCY CSV NA YOLO\n",
    "\n",
    "Poniższe ścieżki należy uzupełnić. Dodatkowo plik `classes.names` należy utworzyć zgodnie ze schematem:\n",
    "```text\n",
    "class_name_0\n",
    "class_name_1\n",
    "class_name_2\n",
    "class_name_3\n",
    "class_name_4\n",
    "class_name_5\n",
    "```"
   ],
   "metadata": {
    "collapsed": false,
    "pycharm": {
     "name": "#%% md\n"
    }
   }
  },
  {
   "cell_type": "code",
   "execution_count": null,
   "outputs": [],
   "source": [
    "# Sciezka do starych anotacji (labeli) w formacie csv\n",
    "csv_path = 'datasets/cars/annots.csv'\n",
    "# Sciezka do obrazow\n",
    "images_path = 'datasets/cars/training_images'\n",
    "# Sciezka do pliku z nazwami klas (yolo wymaga ID klasy, a nie nazwy!)\n",
    "classes_names_path = 'datasets/cars/classes.names'\n",
    "# Sciezka do zapisu datasetu w nowym formacie\n",
    "dataset_path = 'datasets/cars_converted'"
   ],
   "metadata": {
    "collapsed": false,
    "pycharm": {
     "name": "#%%\n"
    }
   }
  },
  {
   "cell_type": "code",
   "execution_count": null,
   "outputs": [],
   "source": [
    "from collections import defaultdict\n",
    "from pathlib import Path\n",
    "from shutil import copy\n",
    "\n",
    "from PIL import Image\n",
    "\n",
    "classes_names_file = Path(classes_names_path)\n",
    "classes_names_list = classes_names_file.read_text(encoding='utf8').split()\n",
    "class_name_id_map = {class_name: idx for idx, class_name in enumerate(classes_names_list)}\n",
    "\n",
    "images_old_dir = Path(images_path)\n",
    "dataset_dir = Path(dataset_path)\n",
    "images_new_dir = dataset_dir / 'images'\n",
    "images_new_dir.mkdir(exist_ok=True, parents=True)\n",
    "labels_dir = dataset_dir / 'labels'\n",
    "labels_dir.mkdir(exist_ok=True, parents=True)\n",
    "\n",
    "csv_file = Path(csv_path)\n",
    "csv_content = csv_file.read_text(encoding='utf8')\n",
    "csv_lines = csv_content.split()\n",
    "csv_rows = [line.split(',') for line in csv_lines]\n",
    "header_row = csv_rows[0]\n",
    "# Mapowanie nazw kolumn na index (kolejność) na liście z nagłówkiem\n",
    "col_idx = {col_name: idx for idx, col_name in enumerate(header_row)}\n",
    "data_rows = csv_rows[1:]\n",
    "\n",
    "file_bounds_map = defaultdict(list)\n",
    "\n",
    "for row in data_rows:\n",
    "    filename = str(row[col_idx['image']])\n",
    "    class_name = classes_names_list[0]\n",
    "    xmin = float(row[col_idx['xmin']])\n",
    "    ymin = float(row[col_idx['ymin']])\n",
    "    xmax = float(row[col_idx['xmax']])\n",
    "    ymax = float(row[col_idx['ymax']])\n",
    "\n",
    "    # Format yolo:\n",
    "    # class x_center y_center width height\n",
    "\n",
    "    image_file = images_old_dir / filename\n",
    "    img_w, img_h = Image.open(image_file).size\n",
    "\n",
    "    w = xmax - xmin\n",
    "    h = ymax - ymin\n",
    "    x_cnt = (xmin + xmax) / 2.0\n",
    "    y_cnt = (ymin + ymax) / 2.0\n",
    "\n",
    "    norm_bounds = [x_cnt / img_w, y_cnt / img_h, w / img_w, h / img_h]\n",
    "    bounds_str = ' '.join(f'{i:.6f}' for i in norm_bounds)\n",
    "\n",
    "    yolo_fmt_str = f'{class_name_id_map.get(class_name, 0)} {bounds_str}'\n",
    "    file_bounds_map[filename].append(yolo_fmt_str)\n",
    "\n",
    "for filename, bounds_list in file_bounds_map.items():\n",
    "    image_old_file = images_old_dir / filename\n",
    "    image_new_file = images_new_dir / filename\n",
    "    copy(image_old_file, image_new_file)\n",
    "\n",
    "    label_file_name = image_new_file.with_suffix('.txt').name\n",
    "    label_file = labels_dir.joinpath(label_file_name)\n",
    "    label_file_content = '\\n'.join(bounds_list)\n",
    "    label_file.write_text(label_file_content, encoding='utf8')"
   ],
   "metadata": {
    "collapsed": false,
    "pycharm": {
     "name": "#%%\n"
    }
   }
  },
  {
   "cell_type": "markdown",
   "source": [
    "Splitowanie folderów zawierających obrazki oraz labelki na foldery `train` / `val` / `test`."
   ],
   "metadata": {
    "collapsed": false,
    "pycharm": {
     "name": "#%% md\n"
    }
   }
  },
  {
   "cell_type": "code",
   "execution_count": null,
   "outputs": [],
   "source": [
    "images_dir = 'datasets/cars_converted/images'\n",
    "labels_dir = 'datasets/cars_converted/labels'\n",
    "\n",
    "seed = 1337\n",
    "ratio = (.8, .1, .1)"
   ],
   "metadata": {
    "collapsed": false,
    "pycharm": {
     "name": "#%%\n"
    }
   }
  },
  {
   "cell_type": "code",
   "execution_count": null,
   "outputs": [],
   "source": [
    "from shutil import move\n",
    "import random\n",
    "\n",
    "for directory_path in [images_dir, labels_dir]:\n",
    "    random.seed(seed)  # make sure its reproducible\n",
    "    directory = Path(directory_path)\n",
    "    files = [f for f in directory.iterdir() if f.is_file() and not f.name.startswith(\".\")]\n",
    "    files.sort()\n",
    "    random.shuffle(files)\n",
    "\n",
    "    # the data was shuffled already\n",
    "    split_train_idx = int(round(ratio[0] * len(files)))\n",
    "    split_val_idx = split_train_idx + int(round(ratio[1] * len(files)))\n",
    "\n",
    "    use_test = len(ratio) == 3\n",
    "\n",
    "    files_train = files[:split_train_idx]\n",
    "    files_val = files[split_train_idx:split_val_idx] if use_test else files[split_train_idx:]\n",
    "\n",
    "    li = [(files_train, \"train\"), (files_val, \"val\")]\n",
    "\n",
    "    # optional test folder\n",
    "    if use_test:\n",
    "        files_test = files[split_val_idx:]\n",
    "        li.append((files_test, \"test\"))\n",
    "\n",
    "    for files, folder_type in li:\n",
    "        end_path = directory / folder_type\n",
    "        Path(end_path).mkdir(parents=True, exist_ok=True)\n",
    "        for f in files:\n",
    "            move(str(f), str(end_path))"
   ],
   "metadata": {
    "collapsed": false,
    "pycharm": {
     "name": "#%%\n"
    }
   }
  },
  {
   "cell_type": "code",
   "execution_count": null,
   "outputs": [],
   "source": [],
   "metadata": {
    "collapsed": false,
    "pycharm": {
     "name": "#%%\n"
    }
   }
  },
  {
   "cell_type": "code",
   "execution_count": null,
   "metadata": {
    "pycharm": {
     "name": "#%%\n"
    }
   },
   "outputs": [],
   "source": [
    "from shutil import move\n",
    "import random\n",
    "\n",
    "for directory_path in [images_dir, labels_dir]:\n",
    "    random.seed(seed)  # make sure its reproducible\n",
    "    directory = Path(directory_path)\n",
    "    files = [f for f in directory.iterdir() if f.is_file() and not f.name.startswith(\".\")]\n",
    "    files.sort()\n",
    "    random.shuffle(files)\n",
    "\n",
    "    # the data was shuffled already\n",
    "    split_train_idx = int(round(ratio[0] * len(files)))\n",
    "    split_val_idx = split_train_idx + int(round(ratio[1] * len(files)))\n",
    "\n",
    "    use_test = len(ratio) == 3\n",
    "\n",
    "    files_train = files[:split_train_idx]\n",
    "    files_val = files[split_train_idx:split_val_idx] if use_test else files[split_train_idx:]\n",
    "\n",
    "    li = [(files_train, \"train\"), (files_val, \"val\")]\n",
    "\n",
    "    # optional test folder\n",
    "    if use_test:\n",
    "        files_test = files[split_val_idx:]\n",
    "        li.append((files_test, \"test\"))\n",
    "\n",
    "    for files, folder_type in li:\n",
    "        end_path = directory / folder_type\n",
    "        Path(end_path).mkdir(parents=True, exist_ok=True)\n",
    "        for f in files:\n",
    "            move(str(f), str(end_path))"
   ]
  },
  {
   "cell_type": "code",
   "execution_count": null,
   "metadata": {
    "pycharm": {
     "name": "#%%\n"
    }
   },
   "outputs": [],
   "source": []
  }
 ],
 "metadata": {
  "kernelspec": {
   "display_name": "Python 3 (ipykernel)",
   "language": "python",
   "name": "python3"
  },
  "language_info": {
   "codemirror_mode": {
    "name": "ipython",
    "version": 3
   },
   "file_extension": ".py",
   "mimetype": "text/x-python",
   "name": "python",
   "nbconvert_exporter": "python",
   "pygments_lexer": "ipython3",
   "version": "3.10.4"
  },
  "vscode": {
   "interpreter": {
    "hash": "583f1c046f5aaf73ddcfb3ff7849f54a1027028301bd5029eaffadc8575af2b9"
   }
  }
 },
 "nbformat": 4,
 "nbformat_minor": 2
}