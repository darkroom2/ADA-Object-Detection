{
 "cells": [
  {
   "cell_type": "code",
   "execution_count": null,
   "metadata": {
    "pycharm": {
     "name": "#%%\n"
    }
   },
   "outputs": [],
   "source": [
    "% pip install -r./ requirements.txt"
   ]
  },
  {
   "cell_type": "code",
   "execution_count": null,
   "metadata": {
    "pycharm": {
     "name": "#%%\n"
    }
   },
   "outputs": [],
   "source": [
    "% pip install -r./ yolov5 / requirements.txt"
   ]
  },
  {
   "cell_type": "code",
   "execution_count": null,
   "metadata": {
    "pycharm": {
     "name": "#%%\n"
    }
   },
   "outputs": [],
   "source": [
    "!python yolov5 / train.py --img 640 --batch 16 --epochs 2 --data yolov5 / data / coco128.yaml --weights pretrained_models / yolov5n.pt --cache ram --device cpu --project./ trained_models --name xd"
   ]
  },
  {
   "cell_type": "code",
   "execution_count": 10,
   "metadata": {
    "pycharm": {
     "name": "#%%\n"
    }
   },
   "outputs": [],
   "source": [
    "import pandas as pd"
   ]
  },
  {
   "cell_type": "code",
   "execution_count": 11,
   "metadata": {
    "pycharm": {
     "name": "#%%\n"
    }
   },
   "outputs": [],
   "source": [
    "df = pd.read_csv('datasets/test_db/annotations.csv')"
   ]
  },
  {
   "cell_type": "code",
   "execution_count": 12,
   "metadata": {
    "pycharm": {
     "name": "#%%\n"
    }
   },
   "outputs": [
    {
     "data": {
      "text/plain": "    filename  width  height         label  xmin  ymin  xmax  ymax\n0      0.jpg    416     416  black-bishop   280   227   310   284\n1      0.jpg    416     416    black-king   311   110   345   195\n2      0.jpg    416     416   black-queen   237    85   262   159\n3      0.jpg    416     416    black-rook   331   277   366   333\n4      0.jpg    416     416    black-rook   235     3   255    51\n..       ...    ...     ...           ...   ...   ...   ...   ...\n104    6.jpg    416     416    black-rook   335   297   368   355\n105    6.jpg    416     416   black-queen   234    97   260   173\n106    6.jpg    416     416    black-pawn   273    84   291   128\n107    6.jpg    416     416    black-pawn   204   118   223   162\n108    6.jpg    416     416    black-pawn   248   204   270   251\n\n[109 rows x 8 columns]",
      "text/html": "<div>\n<style scoped>\n    .dataframe tbody tr th:only-of-type {\n        vertical-align: middle;\n    }\n\n    .dataframe tbody tr th {\n        vertical-align: top;\n    }\n\n    .dataframe thead th {\n        text-align: right;\n    }\n</style>\n<table border=\"1\" class=\"dataframe\">\n  <thead>\n    <tr style=\"text-align: right;\">\n      <th></th>\n      <th>filename</th>\n      <th>width</th>\n      <th>height</th>\n      <th>label</th>\n      <th>xmin</th>\n      <th>ymin</th>\n      <th>xmax</th>\n      <th>ymax</th>\n    </tr>\n  </thead>\n  <tbody>\n    <tr>\n      <th>0</th>\n      <td>0.jpg</td>\n      <td>416</td>\n      <td>416</td>\n      <td>black-bishop</td>\n      <td>280</td>\n      <td>227</td>\n      <td>310</td>\n      <td>284</td>\n    </tr>\n    <tr>\n      <th>1</th>\n      <td>0.jpg</td>\n      <td>416</td>\n      <td>416</td>\n      <td>black-king</td>\n      <td>311</td>\n      <td>110</td>\n      <td>345</td>\n      <td>195</td>\n    </tr>\n    <tr>\n      <th>2</th>\n      <td>0.jpg</td>\n      <td>416</td>\n      <td>416</td>\n      <td>black-queen</td>\n      <td>237</td>\n      <td>85</td>\n      <td>262</td>\n      <td>159</td>\n    </tr>\n    <tr>\n      <th>3</th>\n      <td>0.jpg</td>\n      <td>416</td>\n      <td>416</td>\n      <td>black-rook</td>\n      <td>331</td>\n      <td>277</td>\n      <td>366</td>\n      <td>333</td>\n    </tr>\n    <tr>\n      <th>4</th>\n      <td>0.jpg</td>\n      <td>416</td>\n      <td>416</td>\n      <td>black-rook</td>\n      <td>235</td>\n      <td>3</td>\n      <td>255</td>\n      <td>51</td>\n    </tr>\n    <tr>\n      <th>...</th>\n      <td>...</td>\n      <td>...</td>\n      <td>...</td>\n      <td>...</td>\n      <td>...</td>\n      <td>...</td>\n      <td>...</td>\n      <td>...</td>\n    </tr>\n    <tr>\n      <th>104</th>\n      <td>6.jpg</td>\n      <td>416</td>\n      <td>416</td>\n      <td>black-rook</td>\n      <td>335</td>\n      <td>297</td>\n      <td>368</td>\n      <td>355</td>\n    </tr>\n    <tr>\n      <th>105</th>\n      <td>6.jpg</td>\n      <td>416</td>\n      <td>416</td>\n      <td>black-queen</td>\n      <td>234</td>\n      <td>97</td>\n      <td>260</td>\n      <td>173</td>\n    </tr>\n    <tr>\n      <th>106</th>\n      <td>6.jpg</td>\n      <td>416</td>\n      <td>416</td>\n      <td>black-pawn</td>\n      <td>273</td>\n      <td>84</td>\n      <td>291</td>\n      <td>128</td>\n    </tr>\n    <tr>\n      <th>107</th>\n      <td>6.jpg</td>\n      <td>416</td>\n      <td>416</td>\n      <td>black-pawn</td>\n      <td>204</td>\n      <td>118</td>\n      <td>223</td>\n      <td>162</td>\n    </tr>\n    <tr>\n      <th>108</th>\n      <td>6.jpg</td>\n      <td>416</td>\n      <td>416</td>\n      <td>black-pawn</td>\n      <td>248</td>\n      <td>204</td>\n      <td>270</td>\n      <td>251</td>\n    </tr>\n  </tbody>\n</table>\n<p>109 rows × 8 columns</p>\n</div>"
     },
     "execution_count": 12,
     "metadata": {},
     "output_type": "execute_result"
    }
   ],
   "source": [
    "df"
   ]
  },
  {
   "cell_type": "code",
   "execution_count": 13,
   "metadata": {
    "pycharm": {
     "name": "#%%\n"
    }
   },
   "outputs": [],
   "source": [
    "grouped_df = df.groupby(['label']).agg({\n",
    "    'xmin': list,\n",
    "    'ymin': list,\n",
    "    'xmax': list,\n",
    "    'ymax': list,\n",
    "    'filename': list\n",
    "})"
   ]
  },
  {
   "cell_type": "code",
   "execution_count": 30,
   "metadata": {
    "pycharm": {
     "name": "#%%\n"
    }
   },
   "outputs": [
    {
     "data": {
      "text/html": [
       "<div>\n",
       "<style scoped>\n",
       "    .dataframe tbody tr th:only-of-type {\n",
       "        vertical-align: middle;\n",
       "    }\n",
       "\n",
       "    .dataframe tbody tr th {\n",
       "        vertical-align: top;\n",
       "    }\n",
       "\n",
       "    .dataframe thead th {\n",
       "        text-align: right;\n",
       "    }\n",
       "</style>\n",
       "<table border=\"1\" class=\"dataframe\">\n",
       "  <thead>\n",
       "    <tr style=\"text-align: right;\">\n",
       "      <th></th>\n",
       "      <th>xmin</th>\n",
       "      <th>ymin</th>\n",
       "      <th>xmax</th>\n",
       "      <th>ymax</th>\n",
       "      <th>filename</th>\n",
       "    </tr>\n",
       "    <tr>\n",
       "      <th>label</th>\n",
       "      <th></th>\n",
       "      <th></th>\n",
       "      <th></th>\n",
       "      <th></th>\n",
       "      <th></th>\n",
       "    </tr>\n",
       "  </thead>\n",
       "  <tbody>\n",
       "    <tr>\n",
       "      <th>black-bishop</th>\n",
       "      <td>[280, 298, 207, 251, 236, 236, 135, 174]</td>\n",
       "      <td>[227, 38, 109, 241, 110, 35, 195, 153]</td>\n",
       "      <td>[310, 318, 227, 279, 260, 262, 164, 196]</td>\n",
       "      <td>[284, 93, 163, 306, 169, 97, 253, 210]</td>\n",
       "      <td>[0.jpg, 1.jpg, 1.jpg, 4.jpg, 4.jpg, 4.jpg, 4.j...</td>\n",
       "    </tr>\n",
       "    <tr>\n",
       "      <th>black-king</th>\n",
       "      <td>[311, 243, 302, 257]</td>\n",
       "      <td>[110, 172, 81, 268]</td>\n",
       "      <td>[345, 277, 336, 291]</td>\n",
       "      <td>[195, 256, 167, 354]</td>\n",
       "      <td>[0.jpg, 2.jpg, 4.jpg, 6.jpg]</td>\n",
       "    </tr>\n",
       "    <tr>\n",
       "      <th>black-knight</th>\n",
       "      <td>[235, 172, 306, 325, 240]</td>\n",
       "      <td>[27, 134, 85, 199, 115]</td>\n",
       "      <td>[256, 196, 336, 354, 264]</td>\n",
       "      <td>[84, 195, 163, 255, 172]</td>\n",
       "      <td>[0.jpg, 0.jpg, 1.jpg, 1.jpg, 1.jpg]</td>\n",
       "    </tr>\n",
       "    <tr>\n",
       "      <th>black-pawn</th>\n",
       "      <td>[267, 271, 280, 283, 254, 206, 207, 275, 264, ...</td>\n",
       "      <td>[38, 72, 145, 188, 284, 5, 103, 121, 18, 53, 8...</td>\n",
       "      <td>[286, 291, 303, 305, 278, 225, 226, 293, 281, ...</td>\n",
       "      <td>[82, 116, 190, 233, 333, 50, 147, 164, 59, 95,...</td>\n",
       "      <td>[0.jpg, 0.jpg, 0.jpg, 0.jpg, 0.jpg, 0.jpg, 0.j...</td>\n",
       "    </tr>\n",
       "    <tr>\n",
       "      <th>black-queen</th>\n",
       "      <td>[237, 284, 234, 203, 234]</td>\n",
       "      <td>[85, 137, 93, 139, 97]</td>\n",
       "      <td>[262, 305, 259, 230, 260]</td>\n",
       "      <td>[159, 206, 174, 214, 173]</td>\n",
       "      <td>[0.jpg, 1.jpg, 2.jpg, 4.jpg, 6.jpg]</td>\n",
       "    </tr>\n",
       "    <tr>\n",
       "      <th>black-rook</th>\n",
       "      <td>[331, 235, 339, 291, 333, 292, 320, 335]</td>\n",
       "      <td>[277, 3, 297, 10, 296, 10, 194, 297]</td>\n",
       "      <td>[366, 255, 369, 313, 367, 316, 350, 368]</td>\n",
       "      <td>[333, 51, 355, 59, 355, 61, 249, 355]</td>\n",
       "      <td>[0.jpg, 0.jpg, 1.jpg, 1.jpg, 2.jpg, 4.jpg, 4.j...</td>\n",
       "    </tr>\n",
       "    <tr>\n",
       "      <th>white-bishop</th>\n",
       "      <td>[52, 66, 46, 137, 66]</td>\n",
       "      <td>[174, 33, 246, 150, 34]</td>\n",
       "      <td>[79, 89, 73, 159, 90]</td>\n",
       "      <td>[231, 92, 305, 205, 92]</td>\n",
       "      <td>[0.jpg, 1.jpg, 1.jpg, 4.jpg, 4.jpg]</td>\n",
       "    </tr>\n",
       "    <tr>\n",
       "      <th>white-king</th>\n",
       "      <td>[56, 53, 129, 52, 131]</td>\n",
       "      <td>[111, 129, 128, 127, 129]</td>\n",
       "      <td>[87, 83, 161, 87, 162]</td>\n",
       "      <td>[191, 211, 213, 213, 213]</td>\n",
       "      <td>[0.jpg, 1.jpg, 2.jpg, 4.jpg, 6.jpg]</td>\n",
       "    </tr>\n",
       "    <tr>\n",
       "      <th>white-knight</th>\n",
       "      <td>[141, 52, 134, 83, 133]</td>\n",
       "      <td>[53, 221, 109, 298, 108]</td>\n",
       "      <td>[163, 83, 158, 115, 158]</td>\n",
       "      <td>[106, 281, 164, 360, 163]</td>\n",
       "      <td>[0.jpg, 0.jpg, 1.jpg, 4.jpg, 4.jpg]</td>\n",
       "    </tr>\n",
       "    <tr>\n",
       "      <th>white-pawn</th>\n",
       "      <td>[172, 109, 110, 101, 98, 97, 176, 165, 163, 10...</td>\n",
       "      <td>[103, 3, 69, 148, 192, 233, 282, 81, 16, 48, 1...</td>\n",
       "      <td>[192, 129, 130, 126, 121, 121, 199, 183, 181, ...</td>\n",
       "      <td>[147, 46, 112, 192, 235, 279, 332, 124, 57, 88...</td>\n",
       "      <td>[0.jpg, 0.jpg, 0.jpg, 0.jpg, 0.jpg, 0.jpg, 0.j...</td>\n",
       "    </tr>\n",
       "    <tr>\n",
       "      <th>white-queen</th>\n",
       "      <td>[138, 100, 130]</td>\n",
       "      <td>[87, 57, 24]</td>\n",
       "      <td>[165, 128, 157]</td>\n",
       "      <td>[158, 127, 99]</td>\n",
       "      <td>[0.jpg, 1.jpg, 4.jpg]</td>\n",
       "    </tr>\n",
       "    <tr>\n",
       "      <th>white-rook</th>\n",
       "      <td>[91, 73, 131, 72, 70, 170]</td>\n",
       "      <td>[280, 0, 295, 14, 11, 79]</td>\n",
       "      <td>[119, 98, 158, 93, 94, 195]</td>\n",
       "      <td>[335, 46, 352, 62, 61, 132]</td>\n",
       "      <td>[0.jpg, 0.jpg, 1.jpg, 1.jpg, 4.jpg, 6.jpg]</td>\n",
       "    </tr>\n",
       "  </tbody>\n",
       "</table>\n",
       "</div>"
      ],
      "text/plain": [
       "                                                           xmin  \\\n",
       "label                                                             \n",
       "black-bishop           [280, 298, 207, 251, 236, 236, 135, 174]   \n",
       "black-king                                 [311, 243, 302, 257]   \n",
       "black-knight                          [235, 172, 306, 325, 240]   \n",
       "black-pawn    [267, 271, 280, 283, 254, 206, 207, 275, 264, ...   \n",
       "black-queen                           [237, 284, 234, 203, 234]   \n",
       "black-rook             [331, 235, 339, 291, 333, 292, 320, 335]   \n",
       "white-bishop                              [52, 66, 46, 137, 66]   \n",
       "white-king                               [56, 53, 129, 52, 131]   \n",
       "white-knight                            [141, 52, 134, 83, 133]   \n",
       "white-pawn    [172, 109, 110, 101, 98, 97, 176, 165, 163, 10...   \n",
       "white-queen                                     [138, 100, 130]   \n",
       "white-rook                           [91, 73, 131, 72, 70, 170]   \n",
       "\n",
       "                                                           ymin  \\\n",
       "label                                                             \n",
       "black-bishop             [227, 38, 109, 241, 110, 35, 195, 153]   \n",
       "black-king                                  [110, 172, 81, 268]   \n",
       "black-knight                            [27, 134, 85, 199, 115]   \n",
       "black-pawn    [38, 72, 145, 188, 284, 5, 103, 121, 18, 53, 8...   \n",
       "black-queen                              [85, 137, 93, 139, 97]   \n",
       "black-rook                 [277, 3, 297, 10, 296, 10, 194, 297]   \n",
       "white-bishop                            [174, 33, 246, 150, 34]   \n",
       "white-king                            [111, 129, 128, 127, 129]   \n",
       "white-knight                           [53, 221, 109, 298, 108]   \n",
       "white-pawn    [103, 3, 69, 148, 192, 233, 282, 81, 16, 48, 1...   \n",
       "white-queen                                        [87, 57, 24]   \n",
       "white-rook                            [280, 0, 295, 14, 11, 79]   \n",
       "\n",
       "                                                           xmax  \\\n",
       "label                                                             \n",
       "black-bishop           [310, 318, 227, 279, 260, 262, 164, 196]   \n",
       "black-king                                 [345, 277, 336, 291]   \n",
       "black-knight                          [256, 196, 336, 354, 264]   \n",
       "black-pawn    [286, 291, 303, 305, 278, 225, 226, 293, 281, ...   \n",
       "black-queen                           [262, 305, 259, 230, 260]   \n",
       "black-rook             [366, 255, 369, 313, 367, 316, 350, 368]   \n",
       "white-bishop                              [79, 89, 73, 159, 90]   \n",
       "white-king                               [87, 83, 161, 87, 162]   \n",
       "white-knight                           [163, 83, 158, 115, 158]   \n",
       "white-pawn    [192, 129, 130, 126, 121, 121, 199, 183, 181, ...   \n",
       "white-queen                                     [165, 128, 157]   \n",
       "white-rook                          [119, 98, 158, 93, 94, 195]   \n",
       "\n",
       "                                                           ymax  \\\n",
       "label                                                             \n",
       "black-bishop             [284, 93, 163, 306, 169, 97, 253, 210]   \n",
       "black-king                                 [195, 256, 167, 354]   \n",
       "black-knight                           [84, 195, 163, 255, 172]   \n",
       "black-pawn    [82, 116, 190, 233, 333, 50, 147, 164, 59, 95,...   \n",
       "black-queen                           [159, 206, 174, 214, 173]   \n",
       "black-rook                [333, 51, 355, 59, 355, 61, 249, 355]   \n",
       "white-bishop                            [231, 92, 305, 205, 92]   \n",
       "white-king                            [191, 211, 213, 213, 213]   \n",
       "white-knight                          [106, 281, 164, 360, 163]   \n",
       "white-pawn    [147, 46, 112, 192, 235, 279, 332, 124, 57, 88...   \n",
       "white-queen                                      [158, 127, 99]   \n",
       "white-rook                          [335, 46, 352, 62, 61, 132]   \n",
       "\n",
       "                                                       filename  \n",
       "label                                                            \n",
       "black-bishop  [0.jpg, 1.jpg, 1.jpg, 4.jpg, 4.jpg, 4.jpg, 4.j...  \n",
       "black-king                         [0.jpg, 2.jpg, 4.jpg, 6.jpg]  \n",
       "black-knight                [0.jpg, 0.jpg, 1.jpg, 1.jpg, 1.jpg]  \n",
       "black-pawn    [0.jpg, 0.jpg, 0.jpg, 0.jpg, 0.jpg, 0.jpg, 0.j...  \n",
       "black-queen                 [0.jpg, 1.jpg, 2.jpg, 4.jpg, 6.jpg]  \n",
       "black-rook    [0.jpg, 0.jpg, 1.jpg, 1.jpg, 2.jpg, 4.jpg, 4.j...  \n",
       "white-bishop                [0.jpg, 1.jpg, 1.jpg, 4.jpg, 4.jpg]  \n",
       "white-king                  [0.jpg, 1.jpg, 2.jpg, 4.jpg, 6.jpg]  \n",
       "white-knight                [0.jpg, 0.jpg, 1.jpg, 4.jpg, 4.jpg]  \n",
       "white-pawn    [0.jpg, 0.jpg, 0.jpg, 0.jpg, 0.jpg, 0.jpg, 0.j...  \n",
       "white-queen                               [0.jpg, 1.jpg, 4.jpg]  \n",
       "white-rook           [0.jpg, 0.jpg, 1.jpg, 1.jpg, 4.jpg, 6.jpg]  "
      ]
     },
     "execution_count": 30,
     "metadata": {},
     "output_type": "execute_result"
    }
   ],
   "source": [
    "grouped_df"
   ]
  },
  {
   "cell_type": "code",
   "execution_count": 9,
   "outputs": [],
   "source": [
    "from collections import defaultdict\n",
    "from pathlib import Path\n",
    "\n",
    "from PIL import Image\n",
    "\n",
    "\n",
    "# Sciezka do starych anotacji (labeli) w formacie csv\n",
    "csv_path = 'datasets/test_db/annotations.csv'\n",
    "# Sciezka do obrazow\n",
    "images_path = 'datasets/test_db/images'\n",
    "# Sciezka do nowych anotacji\n",
    "labels_path = 'datasets/test_db_converted/labels'\n",
    "# Sciezka do pliku z nazwami klas (yolo wymaga ID klasy, a nie nazwy!)\n",
    "classes_names_path = 'datasets/test_db/classes.names'\n",
    "\n",
    "classes_names_file = Path(classes_names_path)\n",
    "classes_names_list = classes_names_file.read_text(encoding='utf8').split()\n",
    "class_name_id_map = {class_name: idx for idx, class_name in enumerate(classes_names_list)}\n",
    "\n",
    "images_dir = Path(images_path)\n",
    "labels_dir = Path(labels_path)\n",
    "labels_dir.mkdir(exist_ok=True, parents=True)\n",
    "\n",
    "csv_file = Path(csv_path)\n",
    "csv_content = csv_file.read_text(encoding='utf8')\n",
    "csv_lines = csv_content.split()\n",
    "csv_rows = [line.split(',') for line in csv_lines]\n",
    "header_row = csv_rows[0]\n",
    "# Mapowanie nazw kolumn na index (kolejność) na liście z nagłówkiem\n",
    "col_idx = {col_name: idx for idx, col_name in enumerate(header_row)}\n",
    "data_rows = csv_rows[1:]\n",
    "\n",
    "file_bounds_map = defaultdict(list)\n",
    "\n",
    "for row in data_rows:\n",
    "    filename = str(row[col_idx['filename']])\n",
    "    class_name = row[col_idx['label']]\n",
    "    xmin = int(row[col_idx['xmin']])\n",
    "    ymin = int(row[col_idx['ymin']])\n",
    "    xmax = int(row[col_idx['xmax']])\n",
    "    ymax = int(row[col_idx['ymax']])\n",
    "\n",
    "    # Format yolo:\n",
    "    # class x_center y_center width height\n",
    "\n",
    "    image_file = images_dir / filename\n",
    "    img_w, img_h = Image.open(image_file).size\n",
    "\n",
    "    w = xmax - xmin\n",
    "    h = ymax - ymin\n",
    "    x_cnt = (xmin + xmax) / 2.0\n",
    "    y_cnt = (ymin + ymax) / 2.0\n",
    "\n",
    "    norm_bounds = [x_cnt / img_w, y_cnt / img_h, w / img_w, h / img_h]\n",
    "    bounds_str = ' '.join(f'{i:.6f}' for i in norm_bounds)\n",
    "\n",
    "    yolo_fmt_str = f'{class_name_id_map.get(class_name, 0)} {bounds_str}'\n",
    "    file_bounds_map[filename].append(yolo_fmt_str)\n",
    "\n",
    "for filename, bounds_list in file_bounds_map.items():\n",
    "    image_file = images_dir / filename\n",
    "    label_file_name = image_file.with_suffix('.txt').name\n",
    "    label_file = labels_dir.joinpath(label_file_name)\n",
    "    label_file_content = '\\n'.join(bounds_list)\n",
    "    label_file.write_text(label_file_content, encoding='utf8')\n",
    "    # image_file.ren"
   ],
   "metadata": {
    "collapsed": false,
    "pycharm": {
     "name": "#%%\n"
    }
   }
  }
 ],
 "metadata": {
  "kernelspec": {
   "display_name": "Python 3.10.4 64-bit ('yolo')",
   "language": "python",
   "name": "python3"
  },
  "language_info": {
   "codemirror_mode": {
    "name": "ipython",
    "version": 3
   },
   "file_extension": ".py",
   "mimetype": "text/x-python",
   "name": "python",
   "nbconvert_exporter": "python",
   "pygments_lexer": "ipython3",
   "version": "3.10.4"
  },
  "orig_nbformat": 4,
  "vscode": {
   "interpreter": {
    "hash": "583f1c046f5aaf73ddcfb3ff7849f54a1027028301bd5029eaffadc8575af2b9"
   }
  }
 },
 "nbformat": 4,
 "nbformat_minor": 2
}